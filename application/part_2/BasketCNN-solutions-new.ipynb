{
 "cells": [
  {
   "cell_type": "code",
   "execution_count": 1,
   "metadata": {},
   "outputs": [],
   "source": [
    "from typing import NamedTuple, List\n",
    "from collections import Counter\n",
    "\n",
    "def read_basket_data(file):\n",
    "    dataset = []\n",
    "    with open(file) as f:\n",
    "        for line in f.readlines():\n",
    "            products = [int(p)-1 for p in line.split(',')]\n",
    "            if len(products) > 1:\n",
    "                dataset.append(products)\n",
    "    return dataset\n",
    "\n",
    "def build_vocab(dataset: List[List[int]]):\n",
    "    counter = Counter()\n",
    "    for basket in dataset:\n",
    "        counter.update(basket)\n",
    "    return list(counter.keys()), counter"
   ]
  },
  {
   "cell_type": "code",
   "execution_count": 33,
   "metadata": {},
   "outputs": [],
   "source": [
    "from collections import defaultdict\n",
    "import numpy as np\n",
    "from sklearn.model_selection import train_test_split\n",
    "from typing import Tuple\n",
    "\n",
    "def to_size(data: List[int], size: int):\n",
    "    if len(data) > size:\n",
    "        return np.random.choice(data, size=size, replace=False)\n",
    "    else:\n",
    "        return np.random.choice(data, size=size, replace=True)\n",
    "\n",
    "class BasketData(NamedTuple):\n",
    "    dataset: Tuple[np.ndarray, np.ndarray]\n",
    "    vocab: List[int]\n",
    "    counter: Counter\n",
    "    vocab_size: int\n",
    "    max_basket_length: int\n",
    "    \n",
    "    @staticmethod\n",
    "    def build(file: str):\n",
    "        dataset = read_basket_data(file)\n",
    "        print(f\"Read {len(dataset)} baskets from {file}\")\n",
    "        \n",
    "        vocab, counter = build_vocab(dataset)\n",
    "        print(f\"Number of distinct products {len(vocab)}\")\n",
    "        \n",
    "        max_basket_length = max(len(b) for b in dataset)\n",
    "        print(f\"Max basket size {max_basket_length}\")\n",
    "        \n",
    "        dataset = BasketData.build_input_and_labels(dataset, max_basket_length)\n",
    "        \n",
    "        print(f\"Done building dataset\")\n",
    "        return BasketData(dataset, vocab, counter, len(vocab), max_basket_length)\n",
    "    \n",
    "    @staticmethod\n",
    "    def build_input_and_labels(baskets: List[List[int]], max_length: int) -> Tuple[np.ndarray, np.ndarray]:\n",
    "        inputs = []\n",
    "        labels = []\n",
    "        for basket in baskets:\n",
    "            input_basket = basket[:-1]\n",
    "            label_product = basket[-1]\n",
    "\n",
    "            inputs.append(to_size(input_basket, max_length))\n",
    "            labels.append(label_product)\n",
    "\n",
    "        inputs = np.array(inputs)\n",
    "        labels = np.array(labels)\n",
    "        return inputs, labels"
   ]
  },
  {
   "cell_type": "code",
   "execution_count": 34,
   "metadata": {},
   "outputs": [
    {
     "name": "stdout",
     "output_type": "stream",
     "text": [
      "Read 8102 baskets from data/1_100_100_100_apparel_regs.csv\n",
      "Number of distinct products 100\n",
      "Max basket size 21\n",
      "Done building dataset\n"
     ]
    }
   ],
   "source": [
    "from pathlib import Path\n",
    "\n",
    "data_path = Path(\"data/\")\n",
    "\n",
    "basket_data = BasketData.build(data_path / \"1_100_100_100_apparel_regs.csv\")"
   ]
  },
  {
   "cell_type": "code",
   "execution_count": 35,
   "metadata": {},
   "outputs": [],
   "source": [
    "from keras.layers import *\n",
    "import keras.backend as K\n",
    "from keras.models import Model"
   ]
  },
  {
   "cell_type": "code",
   "execution_count": 99,
   "metadata": {},
   "outputs": [],
   "source": [
    "def BasketCNN(max_sequence_length, vocab_size, embedding_dim=100, num_filters=16, dropout_rate=0.25):\n",
    "    \"\"\"\n",
    "    Input:\n",
    "        - max_sequence_length: maximum length of baskets\n",
    "        - vocab_size: number of distinct products\n",
    "        - embedding_layer: embedding layer of Keras created by model type and static flags\n",
    "        - dropout_rate: dropout rate for flattened pooled outputs\n",
    "    Returns:\n",
    "        - model: Model class created with specified inputs\n",
    "    \"\"\"        \n",
    "    x_input = Input(shape=(max_sequence_length,), dtype='int32')\n",
    "\n",
    "    embedding_layer = Embedding(input_dim=vocab_size,\n",
    "                                output_dim=embedding_dim,\n",
    "                                embeddings_initializer='uniform')\n",
    "\n",
    "    x = embedding_layer(x_input)\n",
    "\n",
    "    kernel_sizes = [3, 5, 7]\n",
    "    pooled = []\n",
    "\n",
    "    for kernel in kernel_sizes:\n",
    "\n",
    "        conv = Conv1D(filters=num_filters,\n",
    "                      kernel_size=kernel,\n",
    "                      padding='valid',\n",
    "                      strides=1,\n",
    "                      kernel_initializer='he_uniform',\n",
    "                      activation='relu')(x)\n",
    "        \n",
    "        pool = MaxPooling1D(pool_size=max_sequence_length - kernel + 1)(conv)\n",
    "\n",
    "        pooled.append(pool)\n",
    "\n",
    "    merged = Concatenate(axis=-1)(pooled)\n",
    "\n",
    "    flatten = Flatten()(merged)\n",
    "\n",
    "    drop = Dropout(rate=dropout_rate)(flatten)\n",
    "    \n",
    "    x_output = Dense(vocab_size, kernel_initializer='he_uniform', activation='softmax')(drop)\n",
    "\n",
    "    return Model(inputs=x_input, outputs=x_output)"
   ]
  },
  {
   "cell_type": "code",
   "execution_count": 100,
   "metadata": {},
   "outputs": [],
   "source": [
    "model = TextCNN(basket_data.max_bakset_length, basket_data.vocab_size, dropout_rate=0.25)"
   ]
  },
  {
   "cell_type": "code",
   "execution_count": 101,
   "metadata": {},
   "outputs": [],
   "source": [
    "from functools import partial\n",
    "from keras.metrics import *\n",
    "\n",
    "model.compile(loss='sparse_categorical_crossentropy',\n",
    "              optimizer='Adam',\n",
    "              metrics=['sparse_categorical_accuracy', sparse_top_k_categorical_accuracy])"
   ]
  },
  {
   "cell_type": "code",
   "execution_count": 102,
   "metadata": {},
   "outputs": [
    {
     "name": "stdout",
     "output_type": "stream",
     "text": [
      "Train on 6481 samples, validate on 1621 samples\n",
      "Epoch 1/10\n",
      "6481/6481 [==============================] - 3s 496us/step - loss: 3.9965 - sparse_categorical_accuracy: 0.2416 - sparse_top_k_categorical_accuracy: 0.4302 - val_loss: 3.4932 - val_sparse_categorical_accuracy: 0.2684 - val_sparse_top_k_categorical_accuracy: 0.4503\n",
      "Epoch 2/10\n",
      "6481/6481 [==============================] - 2s 246us/step - loss: 3.3502 - sparse_categorical_accuracy: 0.2790 - sparse_top_k_categorical_accuracy: 0.4823 - val_loss: 3.3715 - val_sparse_categorical_accuracy: 0.2758 - val_sparse_top_k_categorical_accuracy: 0.4744\n",
      "Epoch 3/10\n",
      "6481/6481 [==============================] - 2s 273us/step - loss: 3.2480 - sparse_categorical_accuracy: 0.2844 - sparse_top_k_categorical_accuracy: 0.4985 - val_loss: 3.3045 - val_sparse_categorical_accuracy: 0.2782 - val_sparse_top_k_categorical_accuracy: 0.4867\n",
      "Epoch 4/10\n",
      "6481/6481 [==============================] - 2s 290us/step - loss: 3.1770 - sparse_categorical_accuracy: 0.2842 - sparse_top_k_categorical_accuracy: 0.5146 - val_loss: 3.2627 - val_sparse_categorical_accuracy: 0.2721 - val_sparse_top_k_categorical_accuracy: 0.4978\n",
      "Epoch 5/10\n",
      "6481/6481 [==============================] - 2s 315us/step - loss: 3.1063 - sparse_categorical_accuracy: 0.2879 - sparse_top_k_categorical_accuracy: 0.5356 - val_loss: 3.2226 - val_sparse_categorical_accuracy: 0.2838 - val_sparse_top_k_categorical_accuracy: 0.5003\n",
      "Epoch 6/10\n",
      "6481/6481 [==============================] - 2s 305us/step - loss: 3.0433 - sparse_categorical_accuracy: 0.2924 - sparse_top_k_categorical_accuracy: 0.5456 - val_loss: 3.2002 - val_sparse_categorical_accuracy: 0.2825 - val_sparse_top_k_categorical_accuracy: 0.5065\n",
      "Epoch 7/10\n",
      "6481/6481 [==============================] - 2s 301us/step - loss: 2.9906 - sparse_categorical_accuracy: 0.2976 - sparse_top_k_categorical_accuracy: 0.5604 - val_loss: 3.1872 - val_sparse_categorical_accuracy: 0.2801 - val_sparse_top_k_categorical_accuracy: 0.5163\n",
      "Epoch 8/10\n",
      "6481/6481 [==============================] - 2s 324us/step - loss: 2.9361 - sparse_categorical_accuracy: 0.2986 - sparse_top_k_categorical_accuracy: 0.5707 - val_loss: 3.1749 - val_sparse_categorical_accuracy: 0.2813 - val_sparse_top_k_categorical_accuracy: 0.5170\n",
      "Epoch 9/10\n",
      "6481/6481 [==============================] - 2s 341us/step - loss: 2.8945 - sparse_categorical_accuracy: 0.3001 - sparse_top_k_categorical_accuracy: 0.5862 - val_loss: 3.1717 - val_sparse_categorical_accuracy: 0.2739 - val_sparse_top_k_categorical_accuracy: 0.5200\n",
      "Epoch 10/10\n",
      "6481/6481 [==============================] - 2s 322us/step - loss: 2.8646 - sparse_categorical_accuracy: 0.2998 - sparse_top_k_categorical_accuracy: 0.5877 - val_loss: 3.1783 - val_sparse_categorical_accuracy: 0.2665 - val_sparse_top_k_categorical_accuracy: 0.5157\n"
     ]
    },
    {
     "data": {
      "text/plain": [
       "<keras.callbacks.History at 0x13ece96d8>"
      ]
     },
     "execution_count": 102,
     "metadata": {},
     "output_type": "execute_result"
    }
   ],
   "source": [
    "X, y = basket_data.dataset\n",
    "X_train, X_test, y_train, y_test = train_test_split(X, y, test_size=0.2, random_state=42)\n",
    "model.fit(X_train, y_train, validation_data=(X_test, y_test), batch_size=128, epochs=10, verbose=1)"
   ]
  },
  {
   "cell_type": "code",
   "execution_count": 103,
   "metadata": {},
   "outputs": [],
   "source": [
    "most_common_product, max_count = basket_data.counter.most_common(1)[0]"
   ]
  },
  {
   "cell_type": "code",
   "execution_count": 104,
   "metadata": {},
   "outputs": [],
   "source": [
    "naive_labels = np.zeros_like(y_test, dtype=np.float32)\n",
    "naive_labels = most_common_product"
   ]
  },
  {
   "cell_type": "code",
   "execution_count": 105,
   "metadata": {},
   "outputs": [
    {
     "data": {
      "text/plain": [
       "0.23442319555829735"
      ]
     },
     "execution_count": 105,
     "metadata": {},
     "output_type": "execute_result"
    }
   ],
   "source": [
    "(naive_labels == y_test).mean()"
   ]
  }
 ],
 "metadata": {
  "kernelspec": {
   "display_name": "Python 3",
   "language": "python",
   "name": "python3"
  },
  "language_info": {
   "codemirror_mode": {
    "name": "ipython",
    "version": 3
   },
   "file_extension": ".py",
   "mimetype": "text/x-python",
   "name": "python",
   "nbconvert_exporter": "python",
   "pygments_lexer": "ipython3",
   "version": "3.6.8"
  }
 },
 "nbformat": 4,
 "nbformat_minor": 2
}
