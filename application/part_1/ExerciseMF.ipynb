{
 "cells": [
  {
   "cell_type": "markdown",
   "metadata": {},
   "source": [
    "# Solution: MF of an explicit feedback (ratings) matrix\n",
    "\n",
    "The goal of this exercise is to compare a simple Matric Factorization (MF) and Neural Network Matrix Factorization. \n",
    "\n",
    "\n",
    "**Given:**\n",
    "- data loader and matrix initialization code \n",
    "- default params settings, training and evaluation \n",
    "\n",
    "**Task:** \n",
    "1) Matrix factorization\n",
    "- Q1: choose L1 and L2 regularizations with default params \n",
    "- Q2: Choose L2 and L2 losses and evaluate with default params \n",
    "- Q3: Choose traing parameters: optimizer, rate\n",
    "2) Neural Network Matrix Factorization\n",
    "- Q1: choose number of layers in the NN\n",
    "- Q2: add/remove dropout\n",
    "- Q3: Choose traing parameters: optimizer, rate\n",
    "3) Compare scores obtained by various experiments with the baseline\n",
    "\n",
    "\n",
    "**Original sources:** \n",
    "\n",
    "\n",
    "http://hameddaily.blogspot.fr/2016/12/simple-matrix-factorization-with.html\n",
    "\n",
    "https://nipunbatra.github.io/blog/2017/recommend-keras.html"
   ]
  },
  {
   "cell_type": "code",
   "execution_count": 1,
   "metadata": {},
   "outputs": [],
   "source": [
    "!pip install -q tensorflow==2.0.0-beta0\n",
    "!pip install -q matplotlib\n",
    "!pip install -q pandas\n",
    "!pip install -q numpy"
   ]
  },
  {
   "cell_type": "code",
   "execution_count": 2,
   "metadata": {},
   "outputs": [
    {
     "name": "stdout",
     "output_type": "stream",
     "text": [
      "TensorFlow version: 2.0.0-beta0\n",
      "Eager execution: True\n"
     ]
    }
   ],
   "source": [
    "import tensorflow as tf\n",
    "import numpy\n",
    "import pandas as pd\n",
    "import matplotlib\n",
    "%matplotlib inline\n",
    "\n",
    "print(\"TensorFlow version: {}\".format(tf.__version__))\n",
    "print(\"Eager execution: {}\".format(tf.executing_eagerly()))\n"
   ]
  },
  {
   "cell_type": "code",
   "execution_count": 3,
   "metadata": {},
   "outputs": [],
   "source": [
    "class ResultsTable():\n",
    "    def __init__(self):\n",
    "        self.columns = [\"name\", \"RMSE\", \"Precision@10\"]\n",
    "        self.table = pd.DataFrame(columns=self.columns)\n",
    "        \n",
    "    def add(self, name=\"experimentName\", rmse=None, precision=None):\n",
    "        data ={\"name\":name, \"RMSE\":rmse, \"Precision@10\": precision}\n",
    "        res = pd.Series(data, self.columns, name=name)\n",
    "        self.table = self.table.append(res,  ignore_index=True)\n",
    "\n",
    "        \n",
    "    def show(self):\n",
    "        display(self.table)\n",
    "\n",
    "table = ResultsTable()        "
   ]
  },
  {
   "cell_type": "markdown",
   "metadata": {},
   "source": [
    "# Matrix Factorization"
   ]
  },
  {
   "cell_type": "markdown",
   "metadata": {},
   "source": [
    "### Load the data"
   ]
  },
  {
   "cell_type": "code",
   "execution_count": 4,
   "metadata": {},
   "outputs": [
    {
     "data": {
      "text/html": [
       "<div>\n",
       "<style scoped>\n",
       "    .dataframe tbody tr th:only-of-type {\n",
       "        vertical-align: middle;\n",
       "    }\n",
       "\n",
       "    .dataframe tbody tr th {\n",
       "        vertical-align: top;\n",
       "    }\n",
       "\n",
       "    .dataframe thead th {\n",
       "        text-align: right;\n",
       "    }\n",
       "</style>\n",
       "<table border=\"1\" class=\"dataframe\">\n",
       "  <thead>\n",
       "    <tr style=\"text-align: right;\">\n",
       "      <th></th>\n",
       "      <th>user</th>\n",
       "      <th>item</th>\n",
       "      <th>rate</th>\n",
       "      <th>time</th>\n",
       "    </tr>\n",
       "  </thead>\n",
       "  <tbody>\n",
       "    <tr>\n",
       "      <th>0</th>\n",
       "      <td>186</td>\n",
       "      <td>302</td>\n",
       "      <td>3</td>\n",
       "      <td>891717742</td>\n",
       "    </tr>\n",
       "    <tr>\n",
       "      <th>1</th>\n",
       "      <td>22</td>\n",
       "      <td>377</td>\n",
       "      <td>1</td>\n",
       "      <td>878887116</td>\n",
       "    </tr>\n",
       "    <tr>\n",
       "      <th>2</th>\n",
       "      <td>244</td>\n",
       "      <td>51</td>\n",
       "      <td>2</td>\n",
       "      <td>880606923</td>\n",
       "    </tr>\n",
       "    <tr>\n",
       "      <th>3</th>\n",
       "      <td>166</td>\n",
       "      <td>346</td>\n",
       "      <td>1</td>\n",
       "      <td>886397596</td>\n",
       "    </tr>\n",
       "    <tr>\n",
       "      <th>4</th>\n",
       "      <td>298</td>\n",
       "      <td>474</td>\n",
       "      <td>4</td>\n",
       "      <td>884182806</td>\n",
       "    </tr>\n",
       "  </tbody>\n",
       "</table>\n",
       "</div>"
      ],
      "text/plain": [
       "   user  item  rate       time\n",
       "0   186   302     3  891717742\n",
       "1    22   377     1  878887116\n",
       "2   244    51     2  880606923\n",
       "3   166   346     1  886397596\n",
       "4   298   474     4  884182806"
      ]
     },
     "execution_count": 4,
     "metadata": {},
     "output_type": "execute_result"
    }
   ],
   "source": [
    "from io import BytesIO\n",
    "from zipfile import ZipFile\n",
    "from urllib.request import urlopen\n",
    "\n",
    "resp = urlopen(\"http://files.grouplens.org/datasets/movielens/ml-100k.zip\")\n",
    "zipfile = ZipFile(BytesIO(resp.read()))\n",
    "file = 'ml-100k/u.data'\n",
    "df = pd.read_csv(zipfile.open(file), low_memory=False, skiprows=[0], sep='\\t', names=['user', 'item', 'rate', 'time'])\n",
    "df.head()"
   ]
  },
  {
   "cell_type": "code",
   "execution_count": 5,
   "metadata": {},
   "outputs": [
    {
     "name": "stdout",
     "output_type": "stream",
     "text": [
      "Mean (train) rating = 3.528654970760234\n",
      "Number of ratings (train/val/total) = 70110/29889/99999\n"
     ]
    }
   ],
   "source": [
    "numpy.random.seed(42)\n",
    "# split data into train and test set\n",
    "msk = numpy.random.rand(len(df)) < 0.7\n",
    "df_train = df[msk]\n",
    "df_test = df[~msk]\n",
    "\n",
    "user_index = [x-1 for x in df_train.user.values]\n",
    "item_index = [x-1 for x in df_train.item.values]\n",
    "user_index_test = [x-1 for x in df_test.user.values]\n",
    "item_index_test = [x-1 for x in df_test.item.values]\n",
    "\n",
    "rates = df_train.rate.values \n",
    "rates_test = df_test.rate.values\n",
    "\n",
    "num_ratings = len(rates)\n",
    "num_ratings_test = len(rates_test)\n",
    "mean_rating = numpy.mean(rates)\n",
    "mean_rating_test = numpy.mean(rates_test)\n",
    "\n",
    "rates = rates - mean_rating\n",
    "rates_test = rates_test - mean_rating_test\n",
    "\n",
    "\n",
    "print (\"Mean (train) rating = \" + str(mean_rating))\n",
    "print (\"Number of ratings (train/val/total) = \" + str(num_ratings) + \"/\" + str(num_ratings_test) + \"/\" + str(num_ratings + num_ratings_test))"
   ]
  },
  {
   "cell_type": "markdown",
   "metadata": {},
   "source": [
    "### Initialize the embeddings and choose the regularization\n",
    "Define/initialize the User and Item matrices and use their product to compute ratings R\n",
    "\n",
    "Regularizers: see https://keras.io/regularizers/\n"
   ]
  },
  {
   "cell_type": "code",
   "execution_count": 6,
   "metadata": {},
   "outputs": [],
   "source": [
    "# variables\n",
    "feature_len = 10\n",
    "\n",
    "num_users = 943\n",
    "num_items = 1682\n"
   ]
  },
  {
   "cell_type": "markdown",
   "metadata": {},
   "source": [
    "#### Q1: choose the regularization"
   ]
  },
  {
   "cell_type": "code",
   "execution_count": 7,
   "metadata": {},
   "outputs": [],
   "source": [
    "# regularizers\n",
    "no_regularizer = None\n",
    "regularizer_l2 = tf.keras.regularizers.l2(0.0001)\n",
    "regularizer_l1 = tf.keras.regularizers.l1(0.0001)\n",
    "regularizer_l1l2 = tf.keras.regularizers.l1_l2(0.0001)\n",
    "\n",
    "regularizer_user = regularizer_l2\n",
    "regularizer_product = regularizer_l2"
   ]
  },
  {
   "cell_type": "code",
   "execution_count": 8,
   "metadata": {},
   "outputs": [],
   "source": [
    "# product embedding\n",
    "item_input = tf.keras.layers.Input(shape=[1],name='Item')\n",
    "\n",
    "################ EMBEDDING AND REGULARIZER ##########################################################################\n",
    "item_embedding = tf.keras.layers.Embedding(num_items + 1, feature_len, name='Item-Embedding', \\\n",
    "                                          embeddings_regularizer=regularizer_product)(item_input)\n",
    "#################################################################################################\n",
    "\n",
    "item_vec = tf.keras.layers.Flatten(name='FlattenItems')(item_embedding)\n",
    "\n",
    "# user embedding\n",
    "user_input = tf.keras.layers.Input(shape=[1],name='User')\n",
    "################ EMBEDDING AND REGULARIZER ##########################################################################\n",
    "user_embedding = tf.keras.layers.Embedding(num_users + 1, feature_len,name='User-Embedding', \\\n",
    "                                          embeddings_regularizer=regularizer_user)(user_input)\n",
    "#################################################################################################\n",
    "\n",
    "user_vec = tf.keras.layers.Flatten(name='FlattenUsers')(user_embedding)\n",
    "\n",
    "# rating\n",
    "result = tf.keras.layers.dot([item_vec, user_vec], axes=1, name='DotProduct')\n"
   ]
  },
  {
   "cell_type": "markdown",
   "metadata": {},
   "source": [
    "### Q2: Choose the loss function\n",
    "\n",
    "https://www.tensorflow.org/api_docs/python/tf/keras/losses"
   ]
  },
  {
   "cell_type": "code",
   "execution_count": 9,
   "metadata": {},
   "outputs": [],
   "source": [
    "## MeanAbsoluteError, MeanSquaredError, MeanSquaredLogarithmicError; see https://keras.io/losses/\n",
    "\n",
    "loss = tf.keras.losses.MeanSquaredError()"
   ]
  },
  {
   "cell_type": "markdown",
   "metadata": {},
   "source": [
    "### Q3: Choose training parameters: optimizer, training rate"
   ]
  },
  {
   "cell_type": "code",
   "execution_count": 10,
   "metadata": {},
   "outputs": [],
   "source": [
    "# learning rate\n",
    "lr = 0.001\n",
    "learning_rate = tf.optimizers.schedules.ExponentialDecay(lr, decay_steps=100000,\n",
    "    decay_rate=0.96, staircase=True)\n",
    "\n",
    "\n",
    "optimizer = tf.optimizers.Adam(learning_rate=learning_rate)\n",
    "#optimizer = tf.optimizers.SGD(learning_rate=lr)\n"
   ]
  },
  {
   "cell_type": "markdown",
   "metadata": {},
   "source": [
    "### Define metrics"
   ]
  },
  {
   "cell_type": "code",
   "execution_count": 11,
   "metadata": {},
   "outputs": [],
   "source": [
    "# Define accuracy\n",
    "threshold = 1.0\n",
    "\n",
    "def accuracy(desired_rates, predicted_rates):\n",
    "    diff_op = tf.subtract(predicted_rates, desired_rates, name='trainig_diff')\n",
    "    # Just measure the absolute difference against the threshold\n",
    "    good = tf.less(tf.abs(diff_op), threshold)\n",
    "\n",
    "    return tf.reduce_mean(tf.cast(good, tf.float32))\n"
   ]
  },
  {
   "cell_type": "markdown",
   "metadata": {},
   "source": [
    "### Initialize and compile the model"
   ]
  },
  {
   "cell_type": "code",
   "execution_count": 12,
   "metadata": {},
   "outputs": [
    {
     "name": "stdout",
     "output_type": "stream",
     "text": [
      "Model: \"model\"\n",
      "__________________________________________________________________________________________________\n",
      "Layer (type)                    Output Shape         Param #     Connected to                     \n",
      "==================================================================================================\n",
      "Item (InputLayer)               [(None, 1)]          0                                            \n",
      "__________________________________________________________________________________________________\n",
      "User (InputLayer)               [(None, 1)]          0                                            \n",
      "__________________________________________________________________________________________________\n",
      "Item-Embedding (Embedding)      (None, 1, 10)        16830       Item[0][0]                       \n",
      "__________________________________________________________________________________________________\n",
      "User-Embedding (Embedding)      (None, 1, 10)        9440        User[0][0]                       \n",
      "__________________________________________________________________________________________________\n",
      "FlattenItems (Flatten)          (None, 10)           0           Item-Embedding[0][0]             \n",
      "__________________________________________________________________________________________________\n",
      "FlattenUsers (Flatten)          (None, 10)           0           User-Embedding[0][0]             \n",
      "__________________________________________________________________________________________________\n",
      "DotProduct (Dot)                (None, 1)            0           FlattenItems[0][0]               \n",
      "                                                                 FlattenUsers[0][0]               \n",
      "==================================================================================================\n",
      "Total params: 26,270\n",
      "Trainable params: 26,270\n",
      "Non-trainable params: 0\n",
      "__________________________________________________________________________________________________\n"
     ]
    }
   ],
   "source": [
    "# initialize Keras model \n",
    "model = tf.keras.Model([user_input, item_input], result)\n",
    "\n",
    "# compile the model with the optimizerm, loss and the tracking metrics\n",
    "model.compile(optimizer=optimizer, loss=loss, metrics=[accuracy])\n",
    "\n",
    "model.summary()"
   ]
  },
  {
   "cell_type": "markdown",
   "metadata": {},
   "source": [
    "### Train the model\n"
   ]
  },
  {
   "cell_type": "code",
   "execution_count": 13,
   "metadata": {},
   "outputs": [
    {
     "name": "stderr",
     "output_type": "stream",
     "text": [
      "/usr/local/miniconda3/lib/python3.7/site-packages/tensorflow/python/framework/indexed_slices.py:353: UserWarning: Converting sparse IndexedSlices to a dense Tensor of unknown shape. This may consume a large amount of memory.\n",
      "  \"Converting sparse IndexedSlices to a dense Tensor of unknown shape. \"\n"
     ]
    },
    {
     "name": "stdout",
     "output_type": "stream",
     "text": [
      "Train on 63099 samples, validate on 7011 samples\n",
      "Epoch 1/10\n",
      "63099/63099 [==============================] - 2s 35us/sample - loss: 1.2524 - accuracy: 0.6134 - val_loss: 1.2124 - val_accuracy: 0.6116\n",
      "Epoch 2/10\n",
      "63099/63099 [==============================] - 2s 31us/sample - loss: 1.1284 - accuracy: 0.6507 - val_loss: 1.1307 - val_accuracy: 0.6490-\n",
      "Epoch 3/10\n",
      "63099/63099 [==============================] - 2s 30us/sample - loss: 1.0552 - accuracy: 0.6826 - val_loss: 1.0968 - val_accuracy: 0.6711\n",
      "Epoch 4/10\n",
      "63099/63099 [==============================] - 2s 29us/sample - loss: 1.0151 - accuracy: 0.7004 - val_loss: 1.0785 - val_accuracy: 0.6813\n",
      "Epoch 5/10\n",
      "63099/63099 [==============================] - 2s 30us/sample - loss: 0.9919 - accuracy: 0.7122 - val_loss: 1.0701 - val_accuracy: 0.6920\n",
      "Epoch 6/10\n",
      "63099/63099 [==============================] - 2s 29us/sample - loss: 0.9774 - accuracy: 0.7199 - val_loss: 1.0659 - val_accuracy: 0.6996\n",
      "Epoch 7/10\n",
      "63099/63099 [==============================] - 2s 30us/sample - loss: 0.9665 - accuracy: 0.7256 - val_loss: 1.0646 - val_accuracy: 0.7027\n",
      "Epoch 8/10\n",
      "63099/63099 [==============================] - 2s 30us/sample - loss: 0.9563 - accuracy: 0.7303 - val_loss: 1.0640 - val_accuracy: 0.7018\n",
      "Epoch 9/10\n",
      "63099/63099 [==============================] - 2s 32us/sample - loss: 0.9457 - accuracy: 0.7358 - val_loss: 1.0633 - val_accuracy: 0.7052\n",
      "Epoch 10/10\n",
      "63099/63099 [==============================] - 2s 30us/sample - loss: 0.9352 - accuracy: 0.7418 - val_loss: 1.0652 - val_accuracy: 0.7077\n"
     ]
    }
   ],
   "source": [
    "numberEpochs = 10\n",
    "history = model.fit([user_index, item_index], rates, epochs=numberEpochs, verbose=1, validation_split=0.1)"
   ]
  },
  {
   "cell_type": "markdown",
   "metadata": {},
   "source": [
    "### Visualize the loss "
   ]
  },
  {
   "cell_type": "code",
   "execution_count": 14,
   "metadata": {},
   "outputs": [
    {
     "data": {
      "image/png": "[encoded data removed]",
      "text/plain": [
       "<Figure size 432x288 with 1 Axes>"
      ]
     },
     "metadata": {
      "needs_background": "light"
     },
     "output_type": "display_data"
    }
   ],
   "source": [
    "import matplotlib.pyplot as plt\n",
    "\n",
    "def plot_history(history):\n",
    "    pd.Series(history.history['loss']).plot(logy=True, label='Training loss')\n",
    "    pd.Series(history.history['val_loss']).plot(logy=True, label='Validation loss')\n",
    "    plt.legend()\n",
    "\n",
    "    plt.xlabel(\"Epoch\")\n",
    "    plt.ylabel(\"Train Error\")\n",
    "    plt.show()\n",
    "    \n",
    "plot_history(history)"
   ]
  },
  {
   "cell_type": "markdown",
   "metadata": {},
   "source": [
    "### Evaluate on test dataset and compute RMSE"
   ]
  },
  {
   "cell_type": "code",
   "execution_count": 15,
   "metadata": {},
   "outputs": [
    {
     "name": "stdout",
     "output_type": "stream",
     "text": [
      "Mean absolute error on the test set: 0.755960480432236\n"
     ]
    }
   ],
   "source": [
    "from sklearn.metrics import mean_absolute_error\n",
    "\n",
    "predicted_rates_test = model.predict([user_index_test, item_index_test])\n",
    "\n",
    "err_test = mean_absolute_error(rates_test, predicted_rates_test)\n",
    "\n",
    "print(\"Mean absolute error on the test set: {}\".format(err_test))"
   ]
  },
  {
   "cell_type": "markdown",
   "metadata": {},
   "source": [
    "### Design a simple baseline:  predict average rate per item and recommend items with the highest rating"
   ]
  },
  {
   "cell_type": "code",
   "execution_count": 16,
   "metadata": {},
   "outputs": [
    {
     "name": "stdout",
     "output_type": "stream",
     "text": [
      "Mean absolute error on the test set: 1.001301090559222\n"
     ]
    }
   ],
   "source": [
    "gbo = df_test[[\"item\", \"rate\"]].groupby(\"item\").mean().reset_index()\n",
    "df_gbo = pd.merge(df_test, gbo, on=\"item\", suffixes=('', '_gbo'))\n",
    "predicted_rates_gbo_test = df_gbo.rate_gbo.values\n",
    "\n",
    "err_gbo_test = mean_absolute_error(rates_test + mean_rating_test, predicted_rates_gbo_test)\n",
    "print(\"Mean absolute error on the test set: {}\".format(err_gbo_test))"
   ]
  },
  {
   "cell_type": "markdown",
   "metadata": {},
   "source": [
    "### Generate recommendations from this baseline"
   ]
  },
  {
   "cell_type": "code",
   "execution_count": 17,
   "metadata": {},
   "outputs": [],
   "source": [
    "def recommend_highest_rates(df, userList, nrRecommendations=10):\n",
    "    gbo_set = {}\n",
    "    \n",
    "    # compute mean rating per item\n",
    "    all_items = numpy.unique(df['item'].values)\n",
    "    gbos = df.groupby(\"item\").mean().rate.reset_index().sort_values(by=\"rate\", ascending=False).item.values[:nrRecommendations]\n",
    "    \n",
    "    for user in userList:\n",
    "        gbo_set[user] = gbos\n",
    "            \n",
    "    return gbo_set"
   ]
  },
  {
   "cell_type": "markdown",
   "metadata": {},
   "source": [
    "### Run evaluation for some users"
   ]
  },
  {
   "cell_type": "code",
   "execution_count": 18,
   "metadata": {},
   "outputs": [
    {
     "name": "stdout",
     "output_type": "stream",
     "text": [
      "rating for user 138 for item 484 is 4 and our prediction is: 4.2640038\n",
      "rating for user 208 for item 216 is 5 and our prediction is: 3.8040414\n",
      "rating for user 191 for item 751 is 3 and our prediction is: 3.437961\n",
      "rating for user 92 for item 587 is 3 and our prediction is: 3.5363207\n",
      "rating for user 185 for item 23 is 4 and our prediction is: 4.018039\n",
      "rating for user 15 for item 25 is 3 and our prediction is: 2.993996\n",
      "rating for user 92 for item 77 is 3 and our prediction is: 3.0139482\n",
      "rating for user 94 for item 265 is 4 and our prediction is: 3.6183498\n",
      "rating for user 275 for item 597 is 3 and our prediction is: 3.1066308\n",
      "rating for user 215 for item 211 is 4 and our prediction is: 3.9682312\n"
     ]
    }
   ],
   "source": [
    "# example\n",
    "nr_sampled_users = 10\n",
    "\n",
    "for index in numpy.random.choice(range(num_users), size=nr_sampled_users):\n",
    "    u, p, r = df[['user', 'item', 'rate']].values[index]\n",
    "    learnt_product_embedding = model.get_layer(name='Item-Embedding').get_weights()[0]\n",
    "    learnt_user_embedding = model.get_layer(name='User-Embedding').get_weights()[0]\n",
    "\n",
    "    predicted_rates = numpy.dot(learnt_user_embedding, learnt_product_embedding.T)\n",
    "\n",
    "    rhat = tf.gather(tf.gather(tf.add(predicted_rates, mean_rating), u-1), p-1)\n",
    "    print (\"rating for user \" + str(u) + \" for item \" + str(p) + \" is \" + str(r) + \" and our prediction is: \" + str(rhat.numpy()))\n"
   ]
  },
  {
   "cell_type": "markdown",
   "metadata": {},
   "source": [
    "### Define and compute Precision@K score\n",
    "\n",
    "1) Create validation set for every user\n",
    "\n",
    "2) Generate recommendations\n",
    "\n",
    "3) Compute precision@K"
   ]
  },
  {
   "cell_type": "markdown",
   "metadata": {},
   "source": [
    "### Create validation set for every user"
   ]
  },
  {
   "cell_type": "code",
   "execution_count": 19,
   "metadata": {},
   "outputs": [],
   "source": [
    "def create_validation_set(df, minRate=3.5):\n",
    "    validation_set = {}\n",
    "    \n",
    "    for user in numpy.unique(df['user'].values):\n",
    "        rated_items = df[df['user'] == user]['item'].values\n",
    "        rates = df[df['user'] == user]['rate'].values\n",
    "\n",
    "        best_ranked_items = rated_items[numpy.where(rates > minRate)[0]]\n",
    "        if len(best_ranked_items) > 0:\n",
    "            validation_set[user] = best_ranked_items\n",
    "            \n",
    "    return validation_set\n"
   ]
  },
  {
   "cell_type": "markdown",
   "metadata": {},
   "source": [
    "### Generate recommendations from the trained model for a list of users"
   ]
  },
  {
   "cell_type": "code",
   "execution_count": 20,
   "metadata": {},
   "outputs": [],
   "source": [
    "def create_recommendations(model, user_index, item_index, listOfUsers, nrRecommendations=20):\n",
    "    \n",
    "    predicted_rates = model.predict([user_index, item_index]) \n",
    "    \n",
    "    user_index = numpy.array(user_index)\n",
    "    item_index = numpy.array(item_index)\n",
    "    \n",
    "    recommendations_set = {}\n",
    "    \n",
    "    for user in listOfUsers:\n",
    "        # get rows of the users\n",
    "        rows = numpy.where(user_index == user)[0]\n",
    "        # get items and rates\n",
    "        items = item_index[rows]\n",
    "        rates = predicted_rates[rows]\n",
    "        \n",
    "        if len(rates) > 1:\n",
    "            ranked_items_idx = numpy.argsort(rates, axis=0)[::-1].squeeze()\n",
    "            ranked_items = items[ranked_items_idx]\n",
    "        else:\n",
    "            ranked_items = items\n",
    "\n",
    "        recommendations_set[user] = ranked_items[:nrRecommendations]\n",
    "        \n",
    "    return recommendations_set"
   ]
  },
  {
   "cell_type": "markdown",
   "metadata": {},
   "source": [
    "### Compute precision@k using the recommendations and the validation set"
   ]
  },
  {
   "cell_type": "code",
   "execution_count": 21,
   "metadata": {},
   "outputs": [],
   "source": [
    "def compute_precisionAtK(validations_set, recommendations_set, k=3):\n",
    "\n",
    "    precisionAtK = []\n",
    "    for user in validations_set.keys():\n",
    "\n",
    "        precisionAtK.append(tf.keras.metrics.top_k_categorical_accuracy(\n",
    "        validations_set[user][numpy.newaxis],\n",
    "        recommendations_set[user][numpy.newaxis],\n",
    "        k=k\n",
    "    ).numpy())\n",
    "\n",
    "    return numpy.mean(precisionAtK)"
   ]
  },
  {
   "cell_type": "code",
   "execution_count": 23,
   "metadata": {},
   "outputs": [
    {
     "name": "stdout",
     "output_type": "stream",
     "text": [
      "Baseline: Precision@10 is 0.4720430076122284\n",
      "MF: Precision@10 is 0.4333333373069763\n"
     ]
    }
   ],
   "source": [
    "validation_set = create_validation_set(df_test, minRate=3.5)\n",
    "recommendations_set = create_recommendations(model, user_index_test, item_index_test, \\\n",
    "                                              validation_set.keys(), nrRecommendations=20)\n",
    "highest_rates_baseline = recommend_highest_rates(df, validation_set.keys(), nrRecommendations=20)\n",
    "\n",
    "precision = compute_precisionAtK(validation_set, recommendations_set, k=10)\n",
    "precision_baseline = compute_precisionAtK(validation_set, highest_rates_baseline, k=10)\n",
    "print(\"Baseline: Precision@{} is {}\".format(10, precision_baseline))\n",
    "print(\"MF: Precision@{} is {}\".format(10, precision))\n",
    "\n"
   ]
  },
  {
   "cell_type": "markdown",
   "metadata": {},
   "source": [
    "### Add the results from MF and the baseline into the result table"
   ]
  },
  {
   "cell_type": "code",
   "execution_count": 24,
   "metadata": {},
   "outputs": [
    {
     "data": {
      "text/html": [
       "<div>\n",
       "<style scoped>\n",
       "    .dataframe tbody tr th:only-of-type {\n",
       "        vertical-align: middle;\n",
       "    }\n",
       "\n",
       "    .dataframe tbody tr th {\n",
       "        vertical-align: top;\n",
       "    }\n",
       "\n",
       "    .dataframe thead th {\n",
       "        text-align: right;\n",
       "    }\n",
       "</style>\n",
       "<table border=\"1\" class=\"dataframe\">\n",
       "  <thead>\n",
       "    <tr style=\"text-align: right;\">\n",
       "      <th></th>\n",
       "      <th>name</th>\n",
       "      <th>RMSE</th>\n",
       "      <th>Precision@10</th>\n",
       "    </tr>\n",
       "  </thead>\n",
       "  <tbody>\n",
       "    <tr>\n",
       "      <th>0</th>\n",
       "      <td>gbo</td>\n",
       "      <td>1.001301</td>\n",
       "      <td>0.472043</td>\n",
       "    </tr>\n",
       "    <tr>\n",
       "      <th>1</th>\n",
       "      <td>MF</td>\n",
       "      <td>0.755960</td>\n",
       "      <td>0.433333</td>\n",
       "    </tr>\n",
       "  </tbody>\n",
       "</table>\n",
       "</div>"
      ],
      "text/plain": [
       "  name      RMSE  Precision@10\n",
       "0  gbo  1.001301      0.472043\n",
       "1   MF  0.755960      0.433333"
      ]
     },
     "metadata": {},
     "output_type": "display_data"
    }
   ],
   "source": [
    "table.add(name=\"gbo\", rmse=err_gbo_test, precision=precision_baseline)\n",
    "table.add(name=\"MF\", rmse=err_test, precision=precision)\n",
    "table.show()\n"
   ]
  },
  {
   "cell_type": "markdown",
   "metadata": {},
   "source": [
    "### Q4: Benchmark several experiments with different hyperparameters and put the in the results table "
   ]
  },
  {
   "cell_type": "code",
   "execution_count": 25,
   "metadata": {},
   "outputs": [
    {
     "data": {
      "text/html": [
       "<div>\n",
       "<style scoped>\n",
       "    .dataframe tbody tr th:only-of-type {\n",
       "        vertical-align: middle;\n",
       "    }\n",
       "\n",
       "    .dataframe tbody tr th {\n",
       "        vertical-align: top;\n",
       "    }\n",
       "\n",
       "    .dataframe thead th {\n",
       "        text-align: right;\n",
       "    }\n",
       "</style>\n",
       "<table border=\"1\" class=\"dataframe\">\n",
       "  <thead>\n",
       "    <tr style=\"text-align: right;\">\n",
       "      <th></th>\n",
       "      <th>name</th>\n",
       "      <th>RMSE</th>\n",
       "      <th>Precision@10</th>\n",
       "    </tr>\n",
       "  </thead>\n",
       "  <tbody>\n",
       "    <tr>\n",
       "      <th>0</th>\n",
       "      <td>gbo</td>\n",
       "      <td>1.001301</td>\n",
       "      <td>0.472043</td>\n",
       "    </tr>\n",
       "    <tr>\n",
       "      <th>1</th>\n",
       "      <td>MF</td>\n",
       "      <td>0.755960</td>\n",
       "      <td>0.433333</td>\n",
       "    </tr>\n",
       "  </tbody>\n",
       "</table>\n",
       "</div>"
      ],
      "text/plain": [
       "  name      RMSE  Precision@10\n",
       "0  gbo  1.001301      0.472043\n",
       "1   MF  0.755960      0.433333"
      ]
     },
     "metadata": {},
     "output_type": "display_data"
    }
   ],
   "source": [
    "#table.add(name=\"experiment_l1regularization\", rmse=err_test, precision=precision)\n",
    "table.show()"
   ]
  },
  {
   "cell_type": "markdown",
   "metadata": {},
   "source": [
    "# Neural networks for recommendation\n",
    "Create a simple neural network for recommendation, or for estimating rating! This model is very similar to the earlier matrix factorisation models, but differs in the following ways:\n",
    "\n",
    "- Instead of taking a dot product of the user and the item embedding, we concatenate them and use them as features for our neural network. Thus, we are not constrained to the dot product way of combining the embeddings, and can learn complex non-linear relationships.\n",
    "- We can now have a different dimension of user and item embeddings. This can be useful if one dimension is larger than the other."
   ]
  },
  {
   "cell_type": "code",
   "execution_count": 26,
   "metadata": {},
   "outputs": [
    {
     "name": "stdout",
     "output_type": "stream",
     "text": [
      "Model: \"model_1\"\n",
      "__________________________________________________________________________________________________\n",
      "Layer (type)                    Output Shape         Param #     Connected to                     \n",
      "==================================================================================================\n",
      "Item (InputLayer)               [(None, 1)]          0                                            \n",
      "__________________________________________________________________________________________________\n",
      "User (InputLayer)               [(None, 1)]          0                                            \n",
      "__________________________________________________________________________________________________\n",
      "Item-Embedding (Embedding)      (None, 1, 8)         13464       Item[0][0]                       \n",
      "__________________________________________________________________________________________________\n",
      "User-Embedding (Embedding)      (None, 1, 5)         4720        User[0][0]                       \n",
      "__________________________________________________________________________________________________\n",
      "FlattenItems (Flatten)          (None, 8)            0           Item-Embedding[0][0]             \n",
      "__________________________________________________________________________________________________\n",
      "FlattenUsers (Flatten)          (None, 5)            0           User-Embedding[0][0]             \n",
      "__________________________________________________________________________________________________\n",
      "dropout (Dropout)               (None, 8)            0           FlattenItems[0][0]               \n",
      "__________________________________________________________________________________________________\n",
      "dropout_1 (Dropout)             (None, 5)            0           FlattenUsers[0][0]               \n",
      "__________________________________________________________________________________________________\n",
      "Concat (Concatenate)            (None, 13)           0           dropout[0][0]                    \n",
      "                                                                 dropout_1[0][0]                  \n",
      "__________________________________________________________________________________________________\n",
      "FullyConnected-1 (Dense)        (None, 100)          1400        Concat[0][0]                     \n",
      "__________________________________________________________________________________________________\n",
      "FullyConnected-2 (Dense)        (None, 50)           5050        FullyConnected-1[0][0]           \n",
      "__________________________________________________________________________________________________\n",
      "FullyConnected-3 (Dense)        (None, 20)           1020        FullyConnected-2[0][0]           \n",
      "__________________________________________________________________________________________________\n",
      "Activation (Dense)              (None, 1)            21          FullyConnected-3[0][0]           \n",
      "==================================================================================================\n",
      "Total params: 25,675\n",
      "Trainable params: 25,675\n",
      "Non-trainable params: 0\n",
      "__________________________________________________________________________________________________\n"
     ]
    }
   ],
   "source": [
    "n_latent_factors_user = 5\n",
    "n_latent_factors_item = 8\n",
    "\n",
    "item_input = tf.keras.layers.Input(shape=[1],name='Item')\n",
    "item_embedding = tf.keras.layers.Embedding(num_items + 1, n_latent_factors_item, name='Item-Embedding')(item_input)\n",
    "item_vec = tf.keras.layers.Flatten(name='FlattenItems')(item_embedding)\n",
    "item_vec = tf.keras.layers.Dropout(0.2)(item_vec)\n",
    "\n",
    "user_input = tf.keras.layers.Input(shape=[1],name='User')\n",
    "user_embedding = tf.keras.layers.Embedding(num_users + 1, n_latent_factors_user,name='User-Embedding')(user_input)\n",
    "user_vec = tf.keras.layers.Flatten(name='FlattenUsers')(user_embedding)\n",
    "user_vec = tf.keras.layers.Dropout(0.2)(user_vec)\n",
    "\n",
    "concat = tf.keras.layers.concatenate([item_vec, user_vec], name='Concat')\n",
    "concat_dropout = tf.keras.layers.Dropout(0.2)(concat)\n",
    "dense = tf.keras.layers.Dense(200,name='FullyConnected')(concat)\n",
    "dropout_1 = tf.keras.layers.Dropout(0.2,name='Dropout')(dense)\n",
    "dense_2 = tf.keras.layers.Dense(100,name='FullyConnected-1')(concat)\n",
    "dropout_2 = tf.keras.layers.Dropout(0.2,name='Dropout')(dense_2)\n",
    "dense_3 = tf.keras.layers.Dense(50,name='FullyConnected-2')(dense_2)\n",
    "dropout_3 =tf.keras.layers.Dropout(0.2,name='Dropout')(dense_3)\n",
    "dense_4 = tf.keras.layers.Dense(20,name='FullyConnected-3', activation='relu')(dense_3)\n",
    "\n",
    "result = tf.keras.layers.Dense(1, activation='relu',name='Activation')(dense_4)\n",
    "\n",
    "adam = optimizer = tf.optimizers.Adam( lr=0.0001)\n",
    "model_NN = tf.keras.Model([user_input, item_input], result)\n",
    "model_NN.compile(optimizer=adam,loss= 'mean_absolute_error')\n",
    "model_NN.summary()"
   ]
  },
  {
   "cell_type": "code",
   "execution_count": 27,
   "metadata": {},
   "outputs": [],
   "source": [
    "numberEpochs = 20\n",
    "print_log = 0\n",
    "history_NN = model_NN.fit([user_index, item_index], rates, epochs=numberEpochs, verbose=print_log, validation_split=0.1)"
   ]
  },
  {
   "cell_type": "code",
   "execution_count": 28,
   "metadata": {},
   "outputs": [
    {
     "data": {
      "image/png": "[encoded data removed]",
      "text/plain": [
       "<Figure size 432x288 with 1 Axes>"
      ]
     },
     "metadata": {
      "needs_background": "light"
     },
     "output_type": "display_data"
    }
   ],
   "source": [
    "plot_history(history_NN)"
   ]
  },
  {
   "cell_type": "code",
   "execution_count": 29,
   "metadata": {},
   "outputs": [
    {
     "name": "stdout",
     "output_type": "stream",
     "text": [
      "Mean absolute error on the train set: 0.7908699312648444\n",
      "Mean absolute error on the test set: 0.8154695542947913\n"
     ]
    }
   ],
   "source": [
    "from sklearn.metrics import mean_absolute_error\n",
    "\n",
    "predicted_rates_train = model_NN.predict([user_index, item_index])\n",
    "err_train = mean_absolute_error(rates, predicted_rates_train)\n",
    "\n",
    "print(\"Mean absolute error on the train set: {}\".format(err_train))\n",
    "\n",
    "\n",
    "predicted_rates_test = model_NN.predict([user_index_test, item_index_test])\n",
    "err_test_NN = mean_absolute_error(rates_test, predicted_rates_test)\n",
    "\n",
    "print(\"Mean absolute error on the test set: {}\".format(err_test_NN))"
   ]
  },
  {
   "cell_type": "markdown",
   "metadata": {},
   "source": [
    "### Precision@K"
   ]
  },
  {
   "cell_type": "code",
   "execution_count": 30,
   "metadata": {},
   "outputs": [
    {
     "name": "stdout",
     "output_type": "stream",
     "text": [
      "Baseline: Precision@10 is 0.4720430076122284\n",
      "Precision@10 is 0.4677419364452362\n",
      "MF: Precision@10 is 0.4333333373069763\n"
     ]
    }
   ],
   "source": [
    "recommendations_set_NN = create_recommendations(model_NN, user_index_test, item_index_test, \\\n",
    "                                             validation_set.keys(), nrRecommendations=20)\n",
    "\n",
    "precision_NN = compute_precisionAtK(validation_set, recommendations_set_NN, k=10)\n",
    "print(\"Baseline: Precision@{} is {}\".format(10, precision_baseline))\n",
    "print(\"Precision@{} is {}\".format(10, precision_NN))\n",
    "print(\"MF: Precision@{} is {}\".format(10, precision))\n"
   ]
  },
  {
   "cell_type": "code",
   "execution_count": 31,
   "metadata": {},
   "outputs": [
    {
     "data": {
      "text/html": [
       "<div>\n",
       "<style scoped>\n",
       "    .dataframe tbody tr th:only-of-type {\n",
       "        vertical-align: middle;\n",
       "    }\n",
       "\n",
       "    .dataframe tbody tr th {\n",
       "        vertical-align: top;\n",
       "    }\n",
       "\n",
       "    .dataframe thead th {\n",
       "        text-align: right;\n",
       "    }\n",
       "</style>\n",
       "<table border=\"1\" class=\"dataframe\">\n",
       "  <thead>\n",
       "    <tr style=\"text-align: right;\">\n",
       "      <th></th>\n",
       "      <th>name</th>\n",
       "      <th>RMSE</th>\n",
       "      <th>Precision@10</th>\n",
       "    </tr>\n",
       "  </thead>\n",
       "  <tbody>\n",
       "    <tr>\n",
       "      <th>0</th>\n",
       "      <td>gbo</td>\n",
       "      <td>1.001301</td>\n",
       "      <td>0.472043</td>\n",
       "    </tr>\n",
       "    <tr>\n",
       "      <th>1</th>\n",
       "      <td>MF</td>\n",
       "      <td>0.755960</td>\n",
       "      <td>0.433333</td>\n",
       "    </tr>\n",
       "    <tr>\n",
       "      <th>2</th>\n",
       "      <td>NNMF</td>\n",
       "      <td>0.815470</td>\n",
       "      <td>0.467742</td>\n",
       "    </tr>\n",
       "  </tbody>\n",
       "</table>\n",
       "</div>"
      ],
      "text/plain": [
       "   name      RMSE  Precision@10\n",
       "0   gbo  1.001301      0.472043\n",
       "1    MF  0.755960      0.433333\n",
       "2  NNMF  0.815470      0.467742"
      ]
     },
     "metadata": {},
     "output_type": "display_data"
    }
   ],
   "source": [
    "table.add(name=\"NNMF\", rmse=err_test_NN, precision=precision_NN)\n",
    "table.show()"
   ]
  },
  {
   "cell_type": "markdown",
   "metadata": {},
   "source": [
    "### Final scores"
   ]
  },
  {
   "cell_type": "code",
   "execution_count": 32,
   "metadata": {},
   "outputs": [
    {
     "data": {
      "text/html": [
       "<div>\n",
       "<style scoped>\n",
       "    .dataframe tbody tr th:only-of-type {\n",
       "        vertical-align: middle;\n",
       "    }\n",
       "\n",
       "    .dataframe tbody tr th {\n",
       "        vertical-align: top;\n",
       "    }\n",
       "\n",
       "    .dataframe thead th {\n",
       "        text-align: right;\n",
       "    }\n",
       "</style>\n",
       "<table border=\"1\" class=\"dataframe\">\n",
       "  <thead>\n",
       "    <tr style=\"text-align: right;\">\n",
       "      <th></th>\n",
       "      <th>name</th>\n",
       "      <th>RMSE</th>\n",
       "      <th>Precision@10</th>\n",
       "    </tr>\n",
       "  </thead>\n",
       "  <tbody>\n",
       "    <tr>\n",
       "      <th>1</th>\n",
       "      <td>MF</td>\n",
       "      <td>0.755960</td>\n",
       "      <td>0.433333</td>\n",
       "    </tr>\n",
       "    <tr>\n",
       "      <th>2</th>\n",
       "      <td>NNMF</td>\n",
       "      <td>0.815470</td>\n",
       "      <td>0.467742</td>\n",
       "    </tr>\n",
       "    <tr>\n",
       "      <th>0</th>\n",
       "      <td>gbo</td>\n",
       "      <td>1.001301</td>\n",
       "      <td>0.472043</td>\n",
       "    </tr>\n",
       "  </tbody>\n",
       "</table>\n",
       "</div>"
      ],
      "text/plain": [
       "   name      RMSE  Precision@10\n",
       "1    MF  0.755960      0.433333\n",
       "2  NNMF  0.815470      0.467742\n",
       "0   gbo  1.001301      0.472043"
      ]
     },
     "metadata": {},
     "output_type": "display_data"
    }
   ],
   "source": [
    "display(table.table.sort_values(by=\"RMSE\"))\n"
   ]
  },
  {
   "cell_type": "code",
   "execution_count": 33,
   "metadata": {},
   "outputs": [
    {
     "data": {
      "text/html": [
       "<div>\n",
       "<style scoped>\n",
       "    .dataframe tbody tr th:only-of-type {\n",
       "        vertical-align: middle;\n",
       "    }\n",
       "\n",
       "    .dataframe tbody tr th {\n",
       "        vertical-align: top;\n",
       "    }\n",
       "\n",
       "    .dataframe thead th {\n",
       "        text-align: right;\n",
       "    }\n",
       "</style>\n",
       "<table border=\"1\" class=\"dataframe\">\n",
       "  <thead>\n",
       "    <tr style=\"text-align: right;\">\n",
       "      <th></th>\n",
       "      <th>name</th>\n",
       "      <th>RMSE</th>\n",
       "      <th>Precision@10</th>\n",
       "    </tr>\n",
       "  </thead>\n",
       "  <tbody>\n",
       "    <tr>\n",
       "      <th>0</th>\n",
       "      <td>gbo</td>\n",
       "      <td>1.001301</td>\n",
       "      <td>0.472043</td>\n",
       "    </tr>\n",
       "    <tr>\n",
       "      <th>2</th>\n",
       "      <td>NNMF</td>\n",
       "      <td>0.815470</td>\n",
       "      <td>0.467742</td>\n",
       "    </tr>\n",
       "    <tr>\n",
       "      <th>1</th>\n",
       "      <td>MF</td>\n",
       "      <td>0.755960</td>\n",
       "      <td>0.433333</td>\n",
       "    </tr>\n",
       "  </tbody>\n",
       "</table>\n",
       "</div>"
      ],
      "text/plain": [
       "   name      RMSE  Precision@10\n",
       "0   gbo  1.001301      0.472043\n",
       "2  NNMF  0.815470      0.467742\n",
       "1    MF  0.755960      0.433333"
      ]
     },
     "metadata": {},
     "output_type": "display_data"
    }
   ],
   "source": [
    "display(table.table.sort_values(by=\"Precision@10\", ascending=False))"
   ]
  },
  {
   "cell_type": "code",
   "execution_count": null,
   "metadata": {},
   "outputs": [],
   "source": []
  }
 ],
 "metadata": {
  "kernelspec": {
   "display_name": "Python 3",
   "language": "python",
   "name": "python3"
  },
  "language_info": {
   "codemirror_mode": {
    "name": "ipython",
    "version": 3
   },
   "file_extension": ".py",
   "mimetype": "text/x-python",
   "name": "python",
   "nbconvert_exporter": "python",
   "pygments_lexer": "ipython3",
   "version": "3.7.1"
  }
 },
 "nbformat": 4,
 "nbformat_minor": 2
}
