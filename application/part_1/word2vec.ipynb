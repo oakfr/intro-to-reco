{
 "cells": [
  {
   "cell_type": "markdown",
   "metadata": {},
   "source": [
    "# Meta learning with word2vec"
   ]
  },
  {
   "cell_type": "markdown",
   "metadata": {},
   "source": [
    "The idea of this notebook is to use Word2Vec in recommendations for MovieLens dataset."
   ]
  },
  {
   "cell_type": "code",
   "execution_count": null,
   "metadata": {},
   "outputs": [],
   "source": [
    "!pip install -q matplotlib\n",
    "!pip install -q pandas\n",
    "!pip install -q numpy\n",
    "!pip install -q gensim "
   ]
  },
  {
   "cell_type": "code",
   "execution_count": 2,
   "metadata": {},
   "outputs": [],
   "source": [
    "import numpy as np\n",
    "import pandas as pd\n",
    "import matplotlib\n",
    "%matplotlib inline"
   ]
  },
  {
   "cell_type": "code",
   "execution_count": 3,
   "metadata": {},
   "outputs": [
    {
     "data": {
      "text/html": [
       "<div>\n",
       "<style scoped>\n",
       "    .dataframe tbody tr th:only-of-type {\n",
       "        vertical-align: middle;\n",
       "    }\n",
       "\n",
       "    .dataframe tbody tr th {\n",
       "        vertical-align: top;\n",
       "    }\n",
       "\n",
       "    .dataframe thead th {\n",
       "        text-align: right;\n",
       "    }\n",
       "</style>\n",
       "<table border=\"1\" class=\"dataframe\">\n",
       "  <thead>\n",
       "    <tr style=\"text-align: right;\">\n",
       "      <th></th>\n",
       "      <th>user</th>\n",
       "      <th>item</th>\n",
       "      <th>rate</th>\n",
       "      <th>time</th>\n",
       "    </tr>\n",
       "  </thead>\n",
       "  <tbody>\n",
       "    <tr>\n",
       "      <th>0</th>\n",
       "      <td>186</td>\n",
       "      <td>302</td>\n",
       "      <td>3</td>\n",
       "      <td>891717742</td>\n",
       "    </tr>\n",
       "    <tr>\n",
       "      <th>1</th>\n",
       "      <td>22</td>\n",
       "      <td>377</td>\n",
       "      <td>1</td>\n",
       "      <td>878887116</td>\n",
       "    </tr>\n",
       "    <tr>\n",
       "      <th>2</th>\n",
       "      <td>244</td>\n",
       "      <td>51</td>\n",
       "      <td>2</td>\n",
       "      <td>880606923</td>\n",
       "    </tr>\n",
       "    <tr>\n",
       "      <th>3</th>\n",
       "      <td>166</td>\n",
       "      <td>346</td>\n",
       "      <td>1</td>\n",
       "      <td>886397596</td>\n",
       "    </tr>\n",
       "    <tr>\n",
       "      <th>4</th>\n",
       "      <td>298</td>\n",
       "      <td>474</td>\n",
       "      <td>4</td>\n",
       "      <td>884182806</td>\n",
       "    </tr>\n",
       "  </tbody>\n",
       "</table>\n",
       "</div>"
      ],
      "text/plain": [
       "   user  item  rate       time\n",
       "0   186   302     3  891717742\n",
       "1    22   377     1  878887116\n",
       "2   244    51     2  880606923\n",
       "3   166   346     1  886397596\n",
       "4   298   474     4  884182806"
      ]
     },
     "execution_count": 3,
     "metadata": {},
     "output_type": "execute_result"
    }
   ],
   "source": [
    "from io import BytesIO\n",
    "from zipfile import ZipFile\n",
    "from urllib.request import urlopen\n",
    "\n",
    "resp = urlopen(\"http://files.grouplens.org/datasets/movielens/ml-100k.zip\")\n",
    "zipfile = ZipFile(BytesIO(resp.read()))\n",
    "file = 'ml-100k/u.data'\n",
    "df = pd.read_csv(zipfile.open(file), low_memory=False, skiprows=[0], sep='\\t', names=['user', 'item', 'rate', 'time'])\n",
    "df.head()"
   ]
  },
  {
   "cell_type": "markdown",
   "metadata": {},
   "source": [
    "First we'll get the data and sort by time. The reason of sorting by time is due to the fact that we need the movies that each user saw in chronological order. We also filter movies with ranking above of 3."
   ]
  },
  {
   "cell_type": "code",
   "execution_count": 4,
   "metadata": {},
   "outputs": [
    {
     "data": {
      "text/html": [
       "<div>\n",
       "<style scoped>\n",
       "    .dataframe tbody tr th:only-of-type {\n",
       "        vertical-align: middle;\n",
       "    }\n",
       "\n",
       "    .dataframe tbody tr th {\n",
       "        vertical-align: top;\n",
       "    }\n",
       "\n",
       "    .dataframe thead th {\n",
       "        text-align: right;\n",
       "    }\n",
       "</style>\n",
       "<table border=\"1\" class=\"dataframe\">\n",
       "  <thead>\n",
       "    <tr style=\"text-align: right;\">\n",
       "      <th></th>\n",
       "      <th>user</th>\n",
       "      <th>item</th>\n",
       "      <th>rate</th>\n",
       "      <th>time</th>\n",
       "    </tr>\n",
       "  </thead>\n",
       "  <tbody>\n",
       "    <tr>\n",
       "      <th>213</th>\n",
       "      <td>259</td>\n",
       "      <td>255</td>\n",
       "      <td>4</td>\n",
       "      <td>1997-09-20 03:05:10</td>\n",
       "    </tr>\n",
       "    <tr>\n",
       "      <th>83964</th>\n",
       "      <td>259</td>\n",
       "      <td>286</td>\n",
       "      <td>4</td>\n",
       "      <td>1997-09-20 03:05:27</td>\n",
       "    </tr>\n",
       "    <tr>\n",
       "      <th>43026</th>\n",
       "      <td>259</td>\n",
       "      <td>298</td>\n",
       "      <td>4</td>\n",
       "      <td>1997-09-20 03:05:54</td>\n",
       "    </tr>\n",
       "    <tr>\n",
       "      <th>21395</th>\n",
       "      <td>259</td>\n",
       "      <td>185</td>\n",
       "      <td>4</td>\n",
       "      <td>1997-09-20 03:06:21</td>\n",
       "    </tr>\n",
       "    <tr>\n",
       "      <th>82654</th>\n",
       "      <td>259</td>\n",
       "      <td>173</td>\n",
       "      <td>4</td>\n",
       "      <td>1997-09-20 03:07:23</td>\n",
       "    </tr>\n",
       "  </tbody>\n",
       "</table>\n",
       "</div>"
      ],
      "text/plain": [
       "       user  item  rate                time\n",
       "213     259   255     4 1997-09-20 03:05:10\n",
       "83964   259   286     4 1997-09-20 03:05:27\n",
       "43026   259   298     4 1997-09-20 03:05:54\n",
       "21395   259   185     4 1997-09-20 03:06:21\n",
       "82654   259   173     4 1997-09-20 03:07:23"
      ]
     },
     "execution_count": 4,
     "metadata": {},
     "output_type": "execute_result"
    }
   ],
   "source": [
    "# np.random.seed(42)\n",
    "# # split data into train and test set\n",
    "# msk = np.random.rand(len(df)) < 0.7\n",
    "# df_train = df[msk]\n",
    "# df_test = df[~msk]\n",
    "\n",
    "df_train = df\n",
    "\n",
    "df_train['time'] = pd.to_datetime(df_train['time'], unit='s')\n",
    "df_train = df_train.sort_values(by='time')\n",
    "\n",
    "df_train = df_train[df_train['rate'] > 3]\n",
    "df_train.head()"
   ]
  },
  {
   "cell_type": "markdown",
   "metadata": {},
   "source": [
    "We will get the movie features, see the description in http://files.grouplens.org/datasets/movielens/ml-100k-README.txt"
   ]
  },
  {
   "cell_type": "code",
   "execution_count": 5,
   "metadata": {},
   "outputs": [],
   "source": [
    "names = ['item', 'movie title', 'release date', 'video release date',\n",
    "              'IMDb URL', 'unknown', 'Action', 'Adventure', 'Animation',\n",
    "              'Children', 'Comedy', 'Crime', 'Documentary', 'Drama', 'Fantasy',\n",
    "              'Film-Noir', 'Horror', 'Musical', 'Mystery', 'Romance', 'Sci-Fi',\n",
    "              'Thriller', 'War', 'Western' ]\n",
    "\n",
    "file_item = 'ml-100k/u.item'\n",
    "\n",
    "df_items = pd.read_csv(zipfile.open(file_item), names= names, sep='|', encoding = 'ISO-8859-1')\n",
    "\n"
   ]
  },
  {
   "cell_type": "code",
   "execution_count": 6,
   "metadata": {},
   "outputs": [
    {
     "data": {
      "text/html": [
       "<div>\n",
       "<style scoped>\n",
       "    .dataframe tbody tr th:only-of-type {\n",
       "        vertical-align: middle;\n",
       "    }\n",
       "\n",
       "    .dataframe tbody tr th {\n",
       "        vertical-align: top;\n",
       "    }\n",
       "\n",
       "    .dataframe thead th {\n",
       "        text-align: right;\n",
       "    }\n",
       "</style>\n",
       "<table border=\"1\" class=\"dataframe\">\n",
       "  <thead>\n",
       "    <tr style=\"text-align: right;\">\n",
       "      <th></th>\n",
       "      <th>item</th>\n",
       "      <th>movie title</th>\n",
       "      <th>Action</th>\n",
       "      <th>Adventure</th>\n",
       "      <th>Animation</th>\n",
       "      <th>Children</th>\n",
       "      <th>Comedy</th>\n",
       "      <th>Crime</th>\n",
       "      <th>Documentary</th>\n",
       "      <th>Drama</th>\n",
       "      <th>Fantasy</th>\n",
       "      <th>Film-Noir</th>\n",
       "      <th>Horror</th>\n",
       "      <th>Musical</th>\n",
       "      <th>Mystery</th>\n",
       "      <th>Romance</th>\n",
       "      <th>Sci-Fi</th>\n",
       "      <th>Thriller</th>\n",
       "      <th>War</th>\n",
       "      <th>Western</th>\n",
       "    </tr>\n",
       "  </thead>\n",
       "  <tbody>\n",
       "    <tr>\n",
       "      <th>0</th>\n",
       "      <td>1</td>\n",
       "      <td>Toy Story (1995)</td>\n",
       "      <td>0</td>\n",
       "      <td>0</td>\n",
       "      <td>1</td>\n",
       "      <td>1</td>\n",
       "      <td>1</td>\n",
       "      <td>0</td>\n",
       "      <td>0</td>\n",
       "      <td>0</td>\n",
       "      <td>0</td>\n",
       "      <td>0</td>\n",
       "      <td>0</td>\n",
       "      <td>0</td>\n",
       "      <td>0</td>\n",
       "      <td>0</td>\n",
       "      <td>0</td>\n",
       "      <td>0</td>\n",
       "      <td>0</td>\n",
       "      <td>0</td>\n",
       "    </tr>\n",
       "    <tr>\n",
       "      <th>1</th>\n",
       "      <td>2</td>\n",
       "      <td>GoldenEye (1995)</td>\n",
       "      <td>1</td>\n",
       "      <td>1</td>\n",
       "      <td>0</td>\n",
       "      <td>0</td>\n",
       "      <td>0</td>\n",
       "      <td>0</td>\n",
       "      <td>0</td>\n",
       "      <td>0</td>\n",
       "      <td>0</td>\n",
       "      <td>0</td>\n",
       "      <td>0</td>\n",
       "      <td>0</td>\n",
       "      <td>0</td>\n",
       "      <td>0</td>\n",
       "      <td>0</td>\n",
       "      <td>1</td>\n",
       "      <td>0</td>\n",
       "      <td>0</td>\n",
       "    </tr>\n",
       "    <tr>\n",
       "      <th>2</th>\n",
       "      <td>3</td>\n",
       "      <td>Four Rooms (1995)</td>\n",
       "      <td>0</td>\n",
       "      <td>0</td>\n",
       "      <td>0</td>\n",
       "      <td>0</td>\n",
       "      <td>0</td>\n",
       "      <td>0</td>\n",
       "      <td>0</td>\n",
       "      <td>0</td>\n",
       "      <td>0</td>\n",
       "      <td>0</td>\n",
       "      <td>0</td>\n",
       "      <td>0</td>\n",
       "      <td>0</td>\n",
       "      <td>0</td>\n",
       "      <td>0</td>\n",
       "      <td>1</td>\n",
       "      <td>0</td>\n",
       "      <td>0</td>\n",
       "    </tr>\n",
       "    <tr>\n",
       "      <th>3</th>\n",
       "      <td>4</td>\n",
       "      <td>Get Shorty (1995)</td>\n",
       "      <td>1</td>\n",
       "      <td>0</td>\n",
       "      <td>0</td>\n",
       "      <td>0</td>\n",
       "      <td>1</td>\n",
       "      <td>0</td>\n",
       "      <td>0</td>\n",
       "      <td>1</td>\n",
       "      <td>0</td>\n",
       "      <td>0</td>\n",
       "      <td>0</td>\n",
       "      <td>0</td>\n",
       "      <td>0</td>\n",
       "      <td>0</td>\n",
       "      <td>0</td>\n",
       "      <td>0</td>\n",
       "      <td>0</td>\n",
       "      <td>0</td>\n",
       "    </tr>\n",
       "    <tr>\n",
       "      <th>4</th>\n",
       "      <td>5</td>\n",
       "      <td>Copycat (1995)</td>\n",
       "      <td>0</td>\n",
       "      <td>0</td>\n",
       "      <td>0</td>\n",
       "      <td>0</td>\n",
       "      <td>0</td>\n",
       "      <td>1</td>\n",
       "      <td>0</td>\n",
       "      <td>1</td>\n",
       "      <td>0</td>\n",
       "      <td>0</td>\n",
       "      <td>0</td>\n",
       "      <td>0</td>\n",
       "      <td>0</td>\n",
       "      <td>0</td>\n",
       "      <td>0</td>\n",
       "      <td>1</td>\n",
       "      <td>0</td>\n",
       "      <td>0</td>\n",
       "    </tr>\n",
       "  </tbody>\n",
       "</table>\n",
       "</div>"
      ],
      "text/plain": [
       "   item        movie title  Action  Adventure  Animation  Children  Comedy  \\\n",
       "0     1   Toy Story (1995)       0          0          1         1       1   \n",
       "1     2   GoldenEye (1995)       1          1          0         0       0   \n",
       "2     3  Four Rooms (1995)       0          0          0         0       0   \n",
       "3     4  Get Shorty (1995)       1          0          0         0       1   \n",
       "4     5     Copycat (1995)       0          0          0         0       0   \n",
       "\n",
       "   Crime  Documentary  Drama  Fantasy  Film-Noir  Horror  Musical  Mystery  \\\n",
       "0      0            0      0        0          0       0        0        0   \n",
       "1      0            0      0        0          0       0        0        0   \n",
       "2      0            0      0        0          0       0        0        0   \n",
       "3      0            0      1        0          0       0        0        0   \n",
       "4      1            0      1        0          0       0        0        0   \n",
       "\n",
       "   Romance  Sci-Fi  Thriller  War  Western  \n",
       "0        0       0         0    0        0  \n",
       "1        0       0         1    0        0  \n",
       "2        0       0         1    0        0  \n",
       "3        0       0         0    0        0  \n",
       "4        0       0         1    0        0  "
      ]
     },
     "metadata": {},
     "output_type": "display_data"
    }
   ],
   "source": [
    "df_items = df_items.filter(['item', 'movie title', 'Action', 'Adventure', 'Animation',\n",
    "              'Children', 'Comedy', 'Crime', 'Documentary', 'Drama', 'Fantasy',\n",
    "              'Film-Noir', 'Horror', 'Musical', 'Mystery', 'Romance', 'Sci-Fi',\n",
    "              'Thriller', 'War', 'Western'])\n",
    "display(df_items.head())"
   ]
  },
  {
   "cell_type": "markdown",
   "metadata": {},
   "source": [
    "We merge the training dataset in order to have items with genre. We look at all the items watched by user '914'."
   ]
  },
  {
   "cell_type": "code",
   "execution_count": 7,
   "metadata": {},
   "outputs": [
    {
     "data": {
      "text/html": [
       "<div>\n",
       "<style scoped>\n",
       "    .dataframe tbody tr th:only-of-type {\n",
       "        vertical-align: middle;\n",
       "    }\n",
       "\n",
       "    .dataframe tbody tr th {\n",
       "        vertical-align: top;\n",
       "    }\n",
       "\n",
       "    .dataframe thead th {\n",
       "        text-align: right;\n",
       "    }\n",
       "</style>\n",
       "<table border=\"1\" class=\"dataframe\">\n",
       "  <thead>\n",
       "    <tr style=\"text-align: right;\">\n",
       "      <th></th>\n",
       "      <th>user</th>\n",
       "      <th>item</th>\n",
       "      <th>rate</th>\n",
       "      <th>time</th>\n",
       "      <th>movie title</th>\n",
       "      <th>Action</th>\n",
       "      <th>Adventure</th>\n",
       "      <th>Animation</th>\n",
       "      <th>Children</th>\n",
       "      <th>Comedy</th>\n",
       "      <th>...</th>\n",
       "      <th>Fantasy</th>\n",
       "      <th>Film-Noir</th>\n",
       "      <th>Horror</th>\n",
       "      <th>Musical</th>\n",
       "      <th>Mystery</th>\n",
       "      <th>Romance</th>\n",
       "      <th>Sci-Fi</th>\n",
       "      <th>Thriller</th>\n",
       "      <th>War</th>\n",
       "      <th>Western</th>\n",
       "    </tr>\n",
       "  </thead>\n",
       "  <tbody>\n",
       "    <tr>\n",
       "      <th>4799</th>\n",
       "      <td>914</td>\n",
       "      <td>402</td>\n",
       "      <td>5</td>\n",
       "      <td>1998-02-10 15:26:16</td>\n",
       "      <td>Ghost (1990)</td>\n",
       "      <td>0</td>\n",
       "      <td>0</td>\n",
       "      <td>0</td>\n",
       "      <td>0</td>\n",
       "      <td>1</td>\n",
       "      <td>...</td>\n",
       "      <td>0</td>\n",
       "      <td>0</td>\n",
       "      <td>0</td>\n",
       "      <td>0</td>\n",
       "      <td>0</td>\n",
       "      <td>1</td>\n",
       "      <td>0</td>\n",
       "      <td>1</td>\n",
       "      <td>0</td>\n",
       "      <td>0</td>\n",
       "    </tr>\n",
       "    <tr>\n",
       "      <th>28338</th>\n",
       "      <td>914</td>\n",
       "      <td>197</td>\n",
       "      <td>4</td>\n",
       "      <td>1998-02-10 14:47:08</td>\n",
       "      <td>Graduate, The (1967)</td>\n",
       "      <td>0</td>\n",
       "      <td>0</td>\n",
       "      <td>0</td>\n",
       "      <td>0</td>\n",
       "      <td>0</td>\n",
       "      <td>...</td>\n",
       "      <td>0</td>\n",
       "      <td>0</td>\n",
       "      <td>0</td>\n",
       "      <td>0</td>\n",
       "      <td>0</td>\n",
       "      <td>1</td>\n",
       "      <td>0</td>\n",
       "      <td>0</td>\n",
       "      <td>0</td>\n",
       "      <td>0</td>\n",
       "    </tr>\n",
       "    <tr>\n",
       "      <th>36119</th>\n",
       "      <td>914</td>\n",
       "      <td>155</td>\n",
       "      <td>5</td>\n",
       "      <td>1998-02-10 15:22:01</td>\n",
       "      <td>Dirty Dancing (1987)</td>\n",
       "      <td>0</td>\n",
       "      <td>0</td>\n",
       "      <td>0</td>\n",
       "      <td>0</td>\n",
       "      <td>0</td>\n",
       "      <td>...</td>\n",
       "      <td>0</td>\n",
       "      <td>0</td>\n",
       "      <td>0</td>\n",
       "      <td>1</td>\n",
       "      <td>0</td>\n",
       "      <td>1</td>\n",
       "      <td>0</td>\n",
       "      <td>0</td>\n",
       "      <td>0</td>\n",
       "      <td>0</td>\n",
       "    </tr>\n",
       "    <tr>\n",
       "      <th>41620</th>\n",
       "      <td>914</td>\n",
       "      <td>781</td>\n",
       "      <td>5</td>\n",
       "      <td>1998-02-10 15:11:04</td>\n",
       "      <td>French Kiss (1995)</td>\n",
       "      <td>0</td>\n",
       "      <td>0</td>\n",
       "      <td>0</td>\n",
       "      <td>0</td>\n",
       "      <td>1</td>\n",
       "      <td>...</td>\n",
       "      <td>0</td>\n",
       "      <td>0</td>\n",
       "      <td>0</td>\n",
       "      <td>0</td>\n",
       "      <td>0</td>\n",
       "      <td>1</td>\n",
       "      <td>0</td>\n",
       "      <td>0</td>\n",
       "      <td>0</td>\n",
       "      <td>0</td>\n",
       "    </tr>\n",
       "    <tr>\n",
       "      <th>44408</th>\n",
       "      <td>914</td>\n",
       "      <td>371</td>\n",
       "      <td>4</td>\n",
       "      <td>1998-02-10 14:47:09</td>\n",
       "      <td>Bridges of Madison County, The (1995)</td>\n",
       "      <td>0</td>\n",
       "      <td>0</td>\n",
       "      <td>0</td>\n",
       "      <td>0</td>\n",
       "      <td>0</td>\n",
       "      <td>...</td>\n",
       "      <td>0</td>\n",
       "      <td>0</td>\n",
       "      <td>0</td>\n",
       "      <td>0</td>\n",
       "      <td>0</td>\n",
       "      <td>1</td>\n",
       "      <td>0</td>\n",
       "      <td>0</td>\n",
       "      <td>0</td>\n",
       "      <td>0</td>\n",
       "    </tr>\n",
       "    <tr>\n",
       "      <th>49559</th>\n",
       "      <td>914</td>\n",
       "      <td>778</td>\n",
       "      <td>5</td>\n",
       "      <td>1998-02-10 14:48:05</td>\n",
       "      <td>Don Juan DeMarco (1995)</td>\n",
       "      <td>0</td>\n",
       "      <td>0</td>\n",
       "      <td>0</td>\n",
       "      <td>0</td>\n",
       "      <td>1</td>\n",
       "      <td>...</td>\n",
       "      <td>0</td>\n",
       "      <td>0</td>\n",
       "      <td>0</td>\n",
       "      <td>0</td>\n",
       "      <td>0</td>\n",
       "      <td>1</td>\n",
       "      <td>0</td>\n",
       "      <td>0</td>\n",
       "      <td>0</td>\n",
       "      <td>0</td>\n",
       "    </tr>\n",
       "    <tr>\n",
       "      <th>54987</th>\n",
       "      <td>914</td>\n",
       "      <td>643</td>\n",
       "      <td>4</td>\n",
       "      <td>1998-02-10 15:18:06</td>\n",
       "      <td>The Innocent (1994)</td>\n",
       "      <td>0</td>\n",
       "      <td>0</td>\n",
       "      <td>0</td>\n",
       "      <td>0</td>\n",
       "      <td>0</td>\n",
       "      <td>...</td>\n",
       "      <td>0</td>\n",
       "      <td>0</td>\n",
       "      <td>0</td>\n",
       "      <td>0</td>\n",
       "      <td>0</td>\n",
       "      <td>1</td>\n",
       "      <td>0</td>\n",
       "      <td>0</td>\n",
       "      <td>0</td>\n",
       "      <td>0</td>\n",
       "    </tr>\n",
       "    <tr>\n",
       "      <th>54989</th>\n",
       "      <td>914</td>\n",
       "      <td>1406</td>\n",
       "      <td>4</td>\n",
       "      <td>1998-02-10 15:18:06</td>\n",
       "      <td>When Night Is Falling (1995)</td>\n",
       "      <td>0</td>\n",
       "      <td>0</td>\n",
       "      <td>0</td>\n",
       "      <td>0</td>\n",
       "      <td>0</td>\n",
       "      <td>...</td>\n",
       "      <td>0</td>\n",
       "      <td>0</td>\n",
       "      <td>0</td>\n",
       "      <td>0</td>\n",
       "      <td>0</td>\n",
       "      <td>1</td>\n",
       "      <td>0</td>\n",
       "      <td>0</td>\n",
       "      <td>0</td>\n",
       "      <td>0</td>\n",
       "    </tr>\n",
       "  </tbody>\n",
       "</table>\n",
       "<p>8 rows × 23 columns</p>\n",
       "</div>"
      ],
      "text/plain": [
       "       user  item  rate                time  \\\n",
       "4799    914   402     5 1998-02-10 15:26:16   \n",
       "28338   914   197     4 1998-02-10 14:47:08   \n",
       "36119   914   155     5 1998-02-10 15:22:01   \n",
       "41620   914   781     5 1998-02-10 15:11:04   \n",
       "44408   914   371     4 1998-02-10 14:47:09   \n",
       "49559   914   778     5 1998-02-10 14:48:05   \n",
       "54987   914   643     4 1998-02-10 15:18:06   \n",
       "54989   914  1406     4 1998-02-10 15:18:06   \n",
       "\n",
       "                                 movie title  Action  Adventure  Animation  \\\n",
       "4799                            Ghost (1990)       0          0          0   \n",
       "28338                   Graduate, The (1967)       0          0          0   \n",
       "36119                   Dirty Dancing (1987)       0          0          0   \n",
       "41620                     French Kiss (1995)       0          0          0   \n",
       "44408  Bridges of Madison County, The (1995)       0          0          0   \n",
       "49559                Don Juan DeMarco (1995)       0          0          0   \n",
       "54987                    The Innocent (1994)       0          0          0   \n",
       "54989           When Night Is Falling (1995)       0          0          0   \n",
       "\n",
       "       Children  Comedy  ...  Fantasy  Film-Noir  Horror  Musical  Mystery  \\\n",
       "4799          0       1  ...        0          0       0        0        0   \n",
       "28338         0       0  ...        0          0       0        0        0   \n",
       "36119         0       0  ...        0          0       0        1        0   \n",
       "41620         0       1  ...        0          0       0        0        0   \n",
       "44408         0       0  ...        0          0       0        0        0   \n",
       "49559         0       1  ...        0          0       0        0        0   \n",
       "54987         0       0  ...        0          0       0        0        0   \n",
       "54989         0       0  ...        0          0       0        0        0   \n",
       "\n",
       "       Romance  Sci-Fi  Thriller  War  Western  \n",
       "4799         1       0         1    0        0  \n",
       "28338        1       0         0    0        0  \n",
       "36119        1       0         0    0        0  \n",
       "41620        1       0         0    0        0  \n",
       "44408        1       0         0    0        0  \n",
       "49559        1       0         0    0        0  \n",
       "54987        1       0         0    0        0  \n",
       "54989        1       0         0    0        0  \n",
       "\n",
       "[8 rows x 23 columns]"
      ]
     },
     "metadata": {},
     "output_type": "display_data"
    }
   ],
   "source": [
    "df_train_extended = pd.merge(df_train, df_items, on='item')\n",
    "\n",
    "\n",
    "display(df_train_extended[df_train_extended['user'] == 914])"
   ]
  },
  {
   "cell_type": "markdown",
   "metadata": {},
   "source": [
    "Now we will create a dataset with all the users and all their watched films sorted by timestamp. Also we'll add the first genre that is related to each movie. Note that a movie can have several genres but this is to keep the example simple. "
   ]
  },
  {
   "cell_type": "code",
   "execution_count": 8,
   "metadata": {},
   "outputs": [
    {
     "data": {
      "text/html": [
       "<div>\n",
       "<style scoped>\n",
       "    .dataframe tbody tr th:only-of-type {\n",
       "        vertical-align: middle;\n",
       "    }\n",
       "\n",
       "    .dataframe tbody tr th {\n",
       "        vertical-align: top;\n",
       "    }\n",
       "\n",
       "    .dataframe thead th {\n",
       "        text-align: right;\n",
       "    }\n",
       "</style>\n",
       "<table border=\"1\" class=\"dataframe\">\n",
       "  <thead>\n",
       "    <tr style=\"text-align: right;\">\n",
       "      <th></th>\n",
       "      <th>item</th>\n",
       "      <th>movie title</th>\n",
       "      <th>Action</th>\n",
       "      <th>Adventure</th>\n",
       "      <th>Animation</th>\n",
       "      <th>Children</th>\n",
       "      <th>Comedy</th>\n",
       "      <th>Crime</th>\n",
       "      <th>Documentary</th>\n",
       "      <th>Drama</th>\n",
       "      <th>Fantasy</th>\n",
       "      <th>Film-Noir</th>\n",
       "      <th>Horror</th>\n",
       "      <th>Musical</th>\n",
       "      <th>Mystery</th>\n",
       "      <th>Romance</th>\n",
       "      <th>Sci-Fi</th>\n",
       "      <th>Thriller</th>\n",
       "      <th>War</th>\n",
       "      <th>Western</th>\n",
       "    </tr>\n",
       "  </thead>\n",
       "  <tbody>\n",
       "    <tr>\n",
       "      <th>401</th>\n",
       "      <td>402</td>\n",
       "      <td>Ghost (1990)</td>\n",
       "      <td>0</td>\n",
       "      <td>0</td>\n",
       "      <td>0</td>\n",
       "      <td>0</td>\n",
       "      <td>1</td>\n",
       "      <td>0</td>\n",
       "      <td>0</td>\n",
       "      <td>0</td>\n",
       "      <td>0</td>\n",
       "      <td>0</td>\n",
       "      <td>0</td>\n",
       "      <td>0</td>\n",
       "      <td>0</td>\n",
       "      <td>1</td>\n",
       "      <td>0</td>\n",
       "      <td>1</td>\n",
       "      <td>0</td>\n",
       "      <td>0</td>\n",
       "    </tr>\n",
       "  </tbody>\n",
       "</table>\n",
       "</div>"
      ],
      "text/plain": [
       "     item   movie title  Action  Adventure  Animation  Children  Comedy  \\\n",
       "401   402  Ghost (1990)       0          0          0         0       1   \n",
       "\n",
       "     Crime  Documentary  Drama  Fantasy  Film-Noir  Horror  Musical  Mystery  \\\n",
       "401      0            0      0        0          0       0        0        0   \n",
       "\n",
       "     Romance  Sci-Fi  Thriller  War  Western  \n",
       "401        1       0         1    0        0  "
      ]
     },
     "metadata": {},
     "output_type": "display_data"
    },
    {
     "data": {
      "text/plain": [
       "['Comedy', 'Romance', 'Thriller']"
      ]
     },
     "execution_count": 8,
     "metadata": {},
     "output_type": "execute_result"
    }
   ],
   "source": [
    "genrelist = ['Action', 'Adventure', 'Animation', \n",
    "    'Children', 'Comedy', 'Crime', 'Documentary', 'Drama', 'Fantasy',\n",
    "    'Film-Noir', 'Horror', 'Musical', 'Mystery', 'Romance', 'Sci-Fi',\n",
    "    'Thriller', 'War', 'Western']\n",
    "\n",
    "def get_features_movie(item_id):\n",
    "    features = []\n",
    "    row = df_items[df_items['item'] == item_id]\n",
    "    for i in genrelist:\n",
    "        if row.iloc[0][i]:\n",
    "            features = features + [i]\n",
    "    return features\n",
    "\n",
    "\n",
    "display(df_items[df_items['item'] == 402])\n",
    "get_features_movie(402)"
   ]
  },
  {
   "cell_type": "code",
   "execution_count": 9,
   "metadata": {},
   "outputs": [
    {
     "data": {
      "text/plain": [
       "'Comedy'"
      ]
     },
     "execution_count": 9,
     "metadata": {},
     "output_type": "execute_result"
    }
   ],
   "source": [
    "def convert_to_list(item_id):\n",
    "    return \" \".join([str(x) for x in get_features_movie(item_id)[:1]])\n",
    "convert_to_list(402)"
   ]
  },
  {
   "cell_type": "code",
   "execution_count": 10,
   "metadata": {},
   "outputs": [],
   "source": [
    "# the word2vec training set\n",
    "train_watched = pd.DataFrame(columns=['user', 'watched'])\n",
    "\n",
    "for index, user_id in enumerate(range(min(df_train_extended['user']), max(df_train_extended['user']))):\n",
    "    user_itemslist = df_train_extended[df_train_extended['user'] == user_id].item.values\n",
    "    \n",
    "    l_to_string = \" \".join([convert_to_list(x)+\" \"+str(x) for x in user_itemslist])\n",
    "    train_watched.loc[index] = [user_id, l_to_string]"
   ]
  },
  {
   "cell_type": "code",
   "execution_count": 11,
   "metadata": {},
   "outputs": [
    {
     "data": {
      "text/html": [
       "<div>\n",
       "<style scoped>\n",
       "    .dataframe tbody tr th:only-of-type {\n",
       "        vertical-align: middle;\n",
       "    }\n",
       "\n",
       "    .dataframe tbody tr th {\n",
       "        vertical-align: top;\n",
       "    }\n",
       "\n",
       "    .dataframe thead th {\n",
       "        text-align: right;\n",
       "    }\n",
       "</style>\n",
       "<table border=\"1\" class=\"dataframe\">\n",
       "  <thead>\n",
       "    <tr style=\"text-align: right;\">\n",
       "      <th></th>\n",
       "      <th>user</th>\n",
       "      <th>watched</th>\n",
       "    </tr>\n",
       "  </thead>\n",
       "  <tbody>\n",
       "    <tr>\n",
       "      <th>0</th>\n",
       "      <td>1</td>\n",
       "      <td>Horror 185 Action 173 Comedy 108 Action 176 Ac...</td>\n",
       "    </tr>\n",
       "    <tr>\n",
       "      <th>1</th>\n",
       "      <td>2</td>\n",
       "      <td>Comedy 255 Drama 286 Action 295 Action 50 Acti...</td>\n",
       "    </tr>\n",
       "    <tr>\n",
       "      <th>2</th>\n",
       "      <td>3</td>\n",
       "      <td>Action 181 Drama 318 Action 328 Crime 327 Crim...</td>\n",
       "    </tr>\n",
       "    <tr>\n",
       "      <th>3</th>\n",
       "      <td>4</td>\n",
       "      <td>Drama 357 Action 50 Action 300 Crime 11 Drama ...</td>\n",
       "    </tr>\n",
       "    <tr>\n",
       "      <th>4</th>\n",
       "      <td>5</td>\n",
       "      <td>Action 173 Action 121 Action 50 Action 385 Act...</td>\n",
       "    </tr>\n",
       "  </tbody>\n",
       "</table>\n",
       "</div>"
      ],
      "text/plain": [
       "  user                                            watched\n",
       "0    1  Horror 185 Action 173 Comedy 108 Action 176 Ac...\n",
       "1    2  Comedy 255 Drama 286 Action 295 Action 50 Acti...\n",
       "2    3  Action 181 Drama 318 Action 328 Crime 327 Crim...\n",
       "3    4  Drama 357 Action 50 Action 300 Crime 11 Drama ...\n",
       "4    5  Action 173 Action 121 Action 50 Action 385 Act..."
      ]
     },
     "execution_count": 11,
     "metadata": {},
     "output_type": "execute_result"
    }
   ],
   "source": [
    "train_watched.head()"
   ]
  },
  {
   "cell_type": "markdown",
   "metadata": {},
   "source": [
    "In the new dataset we can see for every user the watched films and the genre for each user."
   ]
  },
  {
   "cell_type": "code",
   "execution_count": 12,
   "metadata": {},
   "outputs": [],
   "source": [
    "list_doc = []\n",
    "\n",
    "for row in train_watched.to_dict(orient='record'):\n",
    "    list_doc.append(str(row['watched']).strip().split(' '))"
   ]
  },
  {
   "cell_type": "code",
   "execution_count": 13,
   "metadata": {},
   "outputs": [
    {
     "name": "stdout",
     "output_type": "stream",
     "text": [
      "['Action', '181', 'Drama', '318', 'Action', '328', 'Crime', '327', 'Crime', '329', 'Comedy', '321', 'Documentary', '320', 'Action', '260', 'Adventure', '331', 'Drama', '340', 'Comedy', '342', 'Crime', '348', 'Crime', '346', 'Comedy', '347', 'Drama', '344']\n"
     ]
    },
    {
     "data": {
      "text/plain": [
       "30"
      ]
     },
     "execution_count": 13,
     "metadata": {},
     "output_type": "execute_result"
    }
   ],
   "source": [
    "print(list_doc[2])\n",
    "len(list_doc[2])"
   ]
  },
  {
   "cell_type": "code",
   "execution_count": 14,
   "metadata": {},
   "outputs": [],
   "source": [
    "from gensim.test.utils import common_texts\n",
    "from gensim.models.word2vec import Word2Vec"
   ]
  },
  {
   "cell_type": "code",
   "execution_count": 15,
   "metadata": {},
   "outputs": [],
   "source": [
    "model = Word2Vec(list_doc, window=5, min_count=1, workers=4)"
   ]
  },
  {
   "cell_type": "code",
   "execution_count": 16,
   "metadata": {},
   "outputs": [],
   "source": [
    "def most_similar(item_id_or_genre):\n",
    "    try:\n",
    "        print(\"Similar of \"+df_items[df_items['item'] == int(item_id_or_genre)].iloc[0]['movie title'])\n",
    "    except:\n",
    "        print(\"Similar of \"+item_id_or_genre)\n",
    "    return [(x, df_items[df_items['item'] == int(x[0])].iloc[0]['movie title']) for x in model.wv.most_similar(item_id_or_genre)]"
   ]
  },
  {
   "cell_type": "markdown",
   "metadata": {},
   "source": [
    "Look at the most similar movies to 'Action' genre."
   ]
  },
  {
   "cell_type": "code",
   "execution_count": 17,
   "metadata": {},
   "outputs": [
    {
     "name": "stdout",
     "output_type": "stream",
     "text": [
      "Similar of Action\n"
     ]
    },
    {
     "data": {
      "text/plain": [
       "[(('2', 0.741334080696106), 'GoldenEye (1995)'),\n",
       " (('233', 0.7342119216918945), 'Under Siege (1992)'),\n",
       " (('226', 0.7213338613510132), 'Die Hard 2 (1990)'),\n",
       " (('684', 0.7165249586105347), 'In the Line of Fire (1993)'),\n",
       " (('92', 0.6944090723991394), 'True Romance (1993)'),\n",
       " (('68', 0.6887273788452148), 'Crow, The (1994)'),\n",
       " (('550', 0.6839775443077087), 'Die Hard: With a Vengeance (1995)'),\n",
       " (('147', 0.6825858950614929), 'Long Kiss Goodnight, The (1996)'),\n",
       " (('121', 0.6758855581283569), 'Independence Day (ID4) (1996)'),\n",
       " (('566', 0.6743015050888062), 'Clear and Present Danger (1994)')]"
      ]
     },
     "execution_count": 17,
     "metadata": {},
     "output_type": "execute_result"
    }
   ],
   "source": [
    "most_similar('Action')"
   ]
  },
  {
   "cell_type": "code",
   "execution_count": 18,
   "metadata": {},
   "outputs": [
    {
     "name": "stdout",
     "output_type": "stream",
     "text": [
      "Similar of Ghost (1990)\n"
     ]
    },
    {
     "data": {
      "text/plain": [
       "[(('739', 0.9967565536499023), 'Pretty Woman (1990)'),\n",
       " (('421', 0.9860407710075378),\n",
       "  \"William Shakespeare's Romeo and Juliet (1996)\"),\n",
       " (('969', 0.9785128235816956), 'Winnie the Pooh and the Blustery Day (1968)'),\n",
       " (('79', 0.9777017831802368), 'Fugitive, The (1993)'),\n",
       " (('692', 0.974472165107727), 'American President, The (1995)'),\n",
       " (('392', 0.9722467660903931), 'Man Without a Face, The (1993)'),\n",
       " (('97', 0.9651090502738953), 'Dances with Wolves (1990)'),\n",
       " (('96', 0.9636562466621399), 'Terminator 2: Judgment Day (1991)'),\n",
       " (('553', 0.9607328176498413), 'Walk in the Clouds, A (1995)'),\n",
       " (('66', 0.9594049453735352), 'While You Were Sleeping (1995)')]"
      ]
     },
     "execution_count": 18,
     "metadata": {},
     "output_type": "execute_result"
    }
   ],
   "source": [
    "most_similar('402')"
   ]
  },
  {
   "cell_type": "code",
   "execution_count": 19,
   "metadata": {},
   "outputs": [
    {
     "name": "stdout",
     "output_type": "stream",
     "text": [
      "Similar of Horror\n"
     ]
    },
    {
     "data": {
      "text/plain": [
       "[(('448', 0.9206116199493408), 'Omen, The (1976)'),\n",
       " (('219', 0.9172361493110657), 'Nightmare on Elm Street, A (1984)'),\n",
       " (('436', 0.8959780931472778), 'American Werewolf in London, An (1981)'),\n",
       " (('447', 0.8958535194396973), 'Carrie (1976)'),\n",
       " (('217', 0.8873440027236938), \"Bram Stoker's Dracula (1992)\"),\n",
       " (('443', 0.8856233358383179), 'Birds, The (1963)'),\n",
       " (('164', 0.8559550046920776), 'Abyss, The (1989)'),\n",
       " (('559', 0.8458583354949951), 'Interview with the Vampire (1994)'),\n",
       " (('185', 0.8397208452224731), 'Psycho (1960)'),\n",
       " (('772', 0.8202890157699585), 'Kids (1995)')]"
      ]
     },
     "execution_count": 19,
     "metadata": {},
     "output_type": "execute_result"
    }
   ],
   "source": [
    "most_similar('Horror')"
   ]
  },
  {
   "cell_type": "markdown",
   "metadata": {},
   "source": [
    "We would like to create recommendations for a user. For example, this is what user 914 saw:"
   ]
  },
  {
   "cell_type": "code",
   "execution_count": 20,
   "metadata": {},
   "outputs": [
    {
     "ename": "NameError",
     "evalue": "name 'l' is not defined",
     "output_type": "error",
     "traceback": [
      "\u001b[0;31m---------------------------------------------------------------------------\u001b[0m",
      "\u001b[0;31mNameError\u001b[0m                                 Traceback (most recent call last)",
      "\u001b[0;32m<ipython-input-20-80cb0870bfa4>\u001b[0m in \u001b[0;36m<module>\u001b[0;34m\u001b[0m\n\u001b[0;32m----> 1\u001b[0;31m \u001b[0mdisplay\u001b[0m\u001b[0;34m(\u001b[0m\u001b[0mdf_train_extended\u001b[0m\u001b[0;34m[\u001b[0m\u001b[0mdf_train_extended\u001b[0m\u001b[0;34m[\u001b[0m\u001b[0;34m'user'\u001b[0m\u001b[0;34m]\u001b[0m \u001b[0;34m==\u001b[0m \u001b[0;36m914\u001b[0m\u001b[0;34m]\u001b[0m\u001b[0;34m.\u001b[0m\u001b[0mfilter\u001b[0m\u001b[0;34m(\u001b[0m\u001b[0;34m[\u001b[0m\u001b[0;34m'item'\u001b[0m\u001b[0;34m,\u001b[0m \u001b[0;34m'movie title'\u001b[0m\u001b[0;34m]\u001b[0m\u001b[0;34m+\u001b[0m\u001b[0ml\u001b[0m\u001b[0;34m)\u001b[0m\u001b[0;34m)\u001b[0m\u001b[0;34m\u001b[0m\u001b[0;34m\u001b[0m\u001b[0m\n\u001b[0m",
      "\u001b[0;31mNameError\u001b[0m: name 'l' is not defined"
     ]
    }
   ],
   "source": [
    "display(df_train_extended[df_train_extended['user'] == 914].filter(['item', 'movie title']+l))"
   ]
  },
  {
   "cell_type": "markdown",
   "metadata": {},
   "source": [
    "The simplest way to define a user embedding is to average the embeddings of movies that he/she saw."
   ]
  },
  {
   "cell_type": "code",
   "execution_count": null,
   "metadata": {},
   "outputs": [],
   "source": [
    "def create_avg_user_vector(user_id):\n",
    "    item_id_list = df_train_extended[df_train_extended['user'] == user_id]['item'].tolist()\n",
    "    vector_item_id_list = [model.wv[str(x)] for x in item_id_list]\n",
    "    return np.average(vector_item_id_list, axis=0)\n",
    "\n",
    "def most_similar_by_vector(vector):\n",
    "    return [(x, df_items[df_items['item'] == int(x[0])].iloc[0]['movie title']) for x in model.wv.similar_by_vector(vector)]\n",
    "\n",
    "\n",
    "recomendations = most_similar_by_vector(create_avg_user_vector(914))\n",
    "display(pd.DataFrame(recomendations))"
   ]
  },
  {
   "cell_type": "code",
   "execution_count": null,
   "metadata": {},
   "outputs": [],
   "source": [
    "[int(r[0]) for r in model.wv.similar_by_vector(create_avg_user_vector(914))]\n"
   ]
  },
  {
   "cell_type": "markdown",
   "metadata": {},
   "source": [
    "### Questions: Evaluate precision@k on the test dataset "
   ]
  },
  {
   "cell_type": "code",
   "execution_count": null,
   "metadata": {},
   "outputs": [],
   "source": [
    "df_train.head()\n"
   ]
  },
  {
   "cell_type": "markdown",
   "metadata": {},
   "source": [
    "Generate recommendations from the trained model for a list of users."
   ]
  },
  {
   "cell_type": "markdown",
   "metadata": {},
   "source": [
    "### Define and compute Precision@K score\n",
    "\n",
    "We first create a validation set for every user which consists of all the products that the user rated higher than 3.5 (the value of the mean rate).\n",
    "\n",
    "We then compute precistion@K for our recommendations."
   ]
  },
  {
   "cell_type": "markdown",
   "metadata": {},
   "source": [
    "### Create validation set for every user"
   ]
  },
  {
   "cell_type": "code",
   "execution_count": null,
   "metadata": {},
   "outputs": [],
   "source": [
    "def create_validation_set(df, minRate=3.5, k=5):\n",
    "    validation_set = {}\n",
    "    \n",
    "    for user in np.unique(df['user'].values) - 1:\n",
    "        rated_items = df[df['user'] == user]['item'].values -1\n",
    "        rates = df[df['user'] == user]['rate'].values\n",
    "\n",
    "        best_ranked_items = rated_items[np.where(rates > minRate)[0]]\n",
    "        if len(best_ranked_items) >= k:\n",
    "            validation_set[user] = best_ranked_items\n",
    "            \n",
    "    return validation_set\n"
   ]
  },
  {
   "cell_type": "markdown",
   "metadata": {},
   "source": [
    " Compute precision@k using the recommendations and the validation set."
   ]
  },
  {
   "cell_type": "code",
   "execution_count": null,
   "metadata": {},
   "outputs": [],
   "source": [
    "def precisionAtK(validations_set, recommendations_set, k=5):\n",
    "    \n",
    "    res = []\n",
    "    for user in validations_set.keys():\n",
    "        \n",
    "        v = validations_set[user]\n",
    "        r = recommendations_set[user][:k]\n",
    "        \n",
    "        ans = len(np.intersect1d(v, r)) / k\n",
    "        res.append(ans)\n",
    "\n",
    "    return np.mean(res)\n"
   ]
  },
  {
   "cell_type": "code",
   "execution_count": null,
   "metadata": {},
   "outputs": [],
   "source": [
    "def compute_precisionAtK_from_recommendations(model, df_test, validation_set=None, nrRecommendations=20, k=10):\n",
    "    \"\"\"\n",
    "    Compute precisionAtK from recommendations and validation set. Generate recommendations applying \\\n",
    "    'model' to dataset 'df_test'. \n",
    "    \"\"\"\n",
    "    if validation_set is None:\n",
    "        validation_set = create_validation_set(df_test, minRate=3.5, k=k)\n",
    "        \n",
    "    recommendations_set = create_recommendations(model, df_test, \\\n",
    "                                              validation_set.keys(), nrRecommendations=nrRecommendations)\n",
    "    precision = precisionAtK(validation_set, recommendations_set, k=k)\n",
    "    \n",
    "    return precision\n",
    "\n"
   ]
  },
  {
   "cell_type": "code",
   "execution_count": null,
   "metadata": {},
   "outputs": [],
   "source": [
    "def create_recommendations(model, df, listOfUsers, nrRecommendations=20):\n",
    "    \n",
    "    recommendations_set = {}\n",
    "    for user in listOfUsers:\n",
    "        r = []\n",
    "        for rr in model.wv.similar_by_vector(create_avg_user_vector(user)):\n",
    "            try:\n",
    "                r.append(int(rr[0]))\n",
    "            except:\n",
    "                pass\n",
    "        recommendations_set[user] = r\n",
    "        \n",
    "    return recommendations_set"
   ]
  },
  {
   "cell_type": "code",
   "execution_count": null,
   "metadata": {},
   "outputs": [],
   "source": [
    "validation_set = create_validation_set(df_train_extended, minRate=3.5)\n",
    "\n",
    "precision = compute_precisionAtK_from_recommendations(model, df_train_extended, validation_set=validation_set, nrRecommendations=20, k=5)\n",
    "print(\"MF: Precision@{} is {}\".format(5, precision))\n",
    "\n"
   ]
  },
  {
   "cell_type": "code",
   "execution_count": null,
   "metadata": {},
   "outputs": [],
   "source": []
  }
 ],
 "metadata": {
  "kernelspec": {
   "display_name": "Python 3",
   "language": "python",
   "name": "python3"
  },
  "language_info": {
   "codemirror_mode": {
    "name": "ipython",
    "version": 3
   },
   "file_extension": ".py",
   "mimetype": "text/x-python",
   "name": "python",
   "nbconvert_exporter": "python",
   "pygments_lexer": "ipython3",
   "version": "3.7.1"
  }
 },
 "nbformat": 4,
 "nbformat_minor": 2
}
